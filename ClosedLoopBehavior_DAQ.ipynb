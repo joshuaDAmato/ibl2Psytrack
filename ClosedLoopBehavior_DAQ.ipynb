{
 "cells": [
  {
   "cell_type": "markdown",
   "metadata": {},
   "source": [
    "### LOAD AND PLOT DATA FROM A SESSION #### \n",
    "This notebook should run from within the iblenv.\n",
    "The functions are taken from the source code of the IBL library. \n",
    "\n",
    "For documentation check:\n",
    "\n",
    "https://int-brain-lab.github.io/iblenv/_autosummary/ibllib.io.raw_data_loaders.html?highlight=raw%20data%20loaders#module-ibllib.io.raw_data_loaders\n",
    "\n"
   ]
  },
  {
   "cell_type": "code",
   "execution_count": 1,
   "metadata": {},
   "outputs": [],
   "source": [
    "#!/usr/bin/env python\n",
    "# -*- coding:utf-8 -*-\n",
    "# @Author: Mora Ogando\n",
    "# @Date: Sunday, July 4th 2021, 1:28:46 pm\n",
    "\"\"\"\n",
    "\n",
    "Raw Data Loader functions for PyBpod rig\n",
    "\n",
    "Module contains one loader function per raw datafile\n",
    "\"\"\"\n",
    "#import things\n",
    "import json\n",
    "import logging\n",
    "import wave\n",
    "from datetime import datetime\n",
    "from pathlib import Path\n",
    "from typing import Union\n",
    "import matplotlib.pyplot as plt\n",
    "\n",
    "import itertools\n",
    "from glob import glob\n",
    "import pickle\n",
    "\n",
    "import numpy as np\n",
    "import pandas as pd\n",
    "import utils as ut\n",
    "\n",
    "#from ibllib.io import jsonable\n",
    "from ibllib.io import raw_data_loaders\n",
    "# from ibllib.misc import version\n",
    "# Helpers Mori\n",
    "\n",
    "def moving_average(x, w):\n",
    "    return np.convolve(x, np.ones(w), 'valid') / w\n",
    "\n",
    "def appendColumnToDF(df,OneDArray,columnName,appendTO):\n",
    "# the number of elements in the 1dArray and the number of elements in the appendTO column (i.e.: 'cell') has to match.\n",
    "    # 1. create a pandas series with your array\n",
    "    series = pd.Series(list(OneDArray),name=columnName)\n",
    "    # 2. create the index (has to match the index in \"appendTO\")\n",
    "    index= pd.Series(np.arange(0,len(OneDArray)),name=appendTO)\n",
    "    # 3. make a DataFrame with these \n",
    "    appendDF = pd.DataFrame(series,index)\n",
    "    \n",
    "    #4. join it onto a new dataframe\n",
    "    try:\n",
    "        df.reset_index(inplace=True)\n",
    "    except:\n",
    "        pass\n",
    "    df2 = df.set_index([appendTO])\n",
    "    df2 = df.join(appendDF,on=appendTO,how='left')\n",
    "    return df2\n",
    "\n",
    "def saveTrialWiseInfo_inServer(session_path):\n",
    "    #Load data \n",
    "    session_data = raw_data_loaders.load_data(session_path)\n",
    "    settings =raw_data_loaders.load_settings(session_path)\n",
    "    encoder_events = raw_data_loaders.load_encoder_events(session_path, settings=False)\n",
    "    encoder_positions =raw_data_loaders.load_encoder_positions(session_path, settings=False)\n",
    "    encoder_trial_info = raw_data_loaders.load_encoder_trial_info(session_path)\n",
    "\n",
    "    # correct responses is a boolean list of len = number of trials.\n",
    "\n",
    "\n",
    "    # append correct responses to trial info\n",
    "\n",
    "    # ((the number of elements in the 1dArray and the number of elements in the appendTO column (i.e.: 'cell') has to match.))\n",
    "    OneDArray = correct_responses\n",
    "    columnName = 'correct'\n",
    "    appendTO = 'trial_num'\n",
    "    trialInfo= appendColumnToDF(encoder_trial_info,OneDArray,columnName,appendTO)\n",
    "\n",
    "    # get the time in the same units and merge the encoder position with the trialInfo dataFrames\n",
    "    trialInfo['relative_time_ms'] = (pd.to_datetime(trialInfo.bns_ts).values -pd.to_datetime(trialInfo.bns_ts).values[0])/1000000\n",
    "    trialInfo['relative_time_ms'] = trialInfo.relative_time_ms.astype(np.int64) \n",
    "    encoder_positions['relative_time_ms'] = (encoder_positions.re_ts.values- encoder_positions.re_ts.values[0])/1000\n",
    "    merged_df = pd.merge(trialInfo, encoder_positions, on = 'relative_time_ms',how='outer')\n",
    "\n",
    "    # save\n",
    "\n",
    "    name = 'behavior_analysis_df'\n",
    "\n",
    "    merged_df.to_csv(path + name + '.csv')\n",
    "    out_path = r'W:\\Satsuma\\Mora//' + path.split('C:\\\\')[-1]\n",
    "    out_path \n",
    "    import os\n",
    "    try:\n",
    "        os.makedirs(out_path)\n",
    "        print('created a new results folder')\n",
    "    except:\n",
    "        print('couldnt make folder')\n",
    "        print(out_path)\n",
    "\n",
    "    merged_df.to_csv(out_path + name + '.csv')\n",
    "    trialInfo.to_csv(out_path + 'trialInfo.csv')\n",
    "    return  merged_df,trialInfo"
   ]
  },
  {
   "cell_type": "markdown",
   "metadata": {},
   "source": [
    "### Merge session info and save it in the server ###"
   ]
  },
  {
   "cell_type": "code",
   "execution_count": 2,
   "metadata": {},
   "outputs": [
    {
     "name": "stderr",
     "output_type": "stream",
     "text": [
      "2023-02-05 14:14:28.727 python[9402:13989705] +[CATransaction synchronize] called within transaction\n",
      "2023-02-05 14:14:28.734 python[9402:13989705] +[CATransaction synchronize] called within transaction\n",
      "2023-02-05 14:14:30.431 python[9402:13989705] +[CATransaction synchronize] called within transaction\n"
     ]
    }
   ],
   "source": [
    "session_path = ut.selectFolder()"
   ]
  },
  {
   "cell_type": "code",
   "execution_count": 6,
   "metadata": {},
   "outputs": [],
   "source": [
    "subject = 'MBOT53_010'\n",
    "date = '2022-07-23'\n",
    "session = '002'\n",
    "\n",
    "#Load data \n",
    "session_data = raw_data_loaders.load_data(session_path)\n",
    "settings =raw_data_loaders.load_settings(session_path)\n",
    "encoder_events = raw_data_loaders.load_encoder_events(session_path, settings=False)\n",
    "encoder_positions =raw_data_loaders.load_encoder_positions(session_path, settings=False)\n",
    "encoder_trial_info = raw_data_loaders.load_encoder_trial_info(session_path)\n"
   ]
  },
  {
   "cell_type": "code",
   "execution_count": 8,
   "metadata": {},
   "outputs": [],
   "source": [
    "# correct responses is a boolean list of len = number of trials.\n",
    "correct_responses = [session_data[i]['trial_correct'] for i in range(len(session_data))]\n",
    "# append correct responses to trial info\n",
    "# ((the number of elements in the 1dArray and the number of elements in the appendTO column (i.e.: 'cell') has to match.))\n",
    "OneDArray = correct_responses\n",
    "columnName = 'correct'\n",
    "appendTO = 'trial_num'\n",
    "trialInfo= appendColumnToDF(encoder_trial_info,OneDArray,columnName,appendTO)\n",
    "\n",
    "# # # get the time in the same units and merge the encoder position with the trialInfo dataFrames\n",
    "# trialInfo['relative_time_ms'] = (pd.to_datetime(trialInfo.bns_ts).values -pd.to_datetime(trialInfo.bns_ts).values[0])/1000000\n",
    "# trialInfo['relative_time_ms'] = trialInfo.relative_time_ms.astype(np.int64) \n",
    "# encoder_positions['relative_time_ms'] = (encoder_positions.re_ts.values- encoder_positions.re_ts.values[0])/1000\n",
    "# merged_df = pd.merge(trialInfo, encoder_positions, on = 'relative_time_ms',how='outer')"
   ]
  },
  {
   "cell_type": "code",
   "execution_count": 10,
   "metadata": {},
   "outputs": [
    {
     "data": {
      "text/plain": [
       "31"
      ]
     },
     "execution_count": 10,
     "metadata": {},
     "output_type": "execute_result"
    }
   ],
   "source": [
    "session_data[30]['trial_num']"
   ]
  },
  {
   "cell_type": "code",
   "execution_count": 17,
   "metadata": {},
   "outputs": [
    {
     "data": {
      "text/html": [
       "<div>\n",
       "<style scoped>\n",
       "    .dataframe tbody tr th:only-of-type {\n",
       "        vertical-align: middle;\n",
       "    }\n",
       "\n",
       "    .dataframe tbody tr th {\n",
       "        vertical-align: top;\n",
       "    }\n",
       "\n",
       "    .dataframe thead th {\n",
       "        text-align: right;\n",
       "    }\n",
       "</style>\n",
       "<table border=\"1\" class=\"dataframe\">\n",
       "  <thead>\n",
       "    <tr style=\"text-align: right;\">\n",
       "      <th></th>\n",
       "      <th>index</th>\n",
       "      <th>re_ts</th>\n",
       "      <th>re_pos</th>\n",
       "    </tr>\n",
       "  </thead>\n",
       "  <tbody>\n",
       "    <tr>\n",
       "      <th>0</th>\n",
       "      <td>0</td>\n",
       "      <td>2.934060e+05</td>\n",
       "      <td>-5</td>\n",
       "    </tr>\n",
       "    <tr>\n",
       "      <th>1</th>\n",
       "      <td>1</td>\n",
       "      <td>3.116170e+05</td>\n",
       "      <td>-4</td>\n",
       "    </tr>\n",
       "    <tr>\n",
       "      <th>2</th>\n",
       "      <td>2</td>\n",
       "      <td>3.161590e+05</td>\n",
       "      <td>-3</td>\n",
       "    </tr>\n",
       "    <tr>\n",
       "      <th>3</th>\n",
       "      <td>3</td>\n",
       "      <td>3.199350e+05</td>\n",
       "      <td>-2</td>\n",
       "    </tr>\n",
       "    <tr>\n",
       "      <th>4</th>\n",
       "      <td>4</td>\n",
       "      <td>3.232880e+05</td>\n",
       "      <td>-1</td>\n",
       "    </tr>\n",
       "    <tr>\n",
       "      <th>...</th>\n",
       "      <td>...</td>\n",
       "      <td>...</td>\n",
       "      <td>...</td>\n",
       "    </tr>\n",
       "    <tr>\n",
       "      <th>177321</th>\n",
       "      <td>177321</td>\n",
       "      <td>1.441574e+09</td>\n",
       "      <td>13</td>\n",
       "    </tr>\n",
       "    <tr>\n",
       "      <th>177322</th>\n",
       "      <td>177322</td>\n",
       "      <td>1.441588e+09</td>\n",
       "      <td>14</td>\n",
       "    </tr>\n",
       "    <tr>\n",
       "      <th>177323</th>\n",
       "      <td>177323</td>\n",
       "      <td>1.441667e+09</td>\n",
       "      <td>15</td>\n",
       "    </tr>\n",
       "    <tr>\n",
       "      <th>177324</th>\n",
       "      <td>177324</td>\n",
       "      <td>1.441693e+09</td>\n",
       "      <td>16</td>\n",
       "    </tr>\n",
       "    <tr>\n",
       "      <th>177325</th>\n",
       "      <td>177325</td>\n",
       "      <td>1.441721e+09</td>\n",
       "      <td>17</td>\n",
       "    </tr>\n",
       "  </tbody>\n",
       "</table>\n",
       "<p>177326 rows × 3 columns</p>\n",
       "</div>"
      ],
      "text/plain": [
       "         index         re_ts  re_pos\n",
       "0            0  2.934060e+05      -5\n",
       "1            1  3.116170e+05      -4\n",
       "2            2  3.161590e+05      -3\n",
       "3            3  3.199350e+05      -2\n",
       "4            4  3.232880e+05      -1\n",
       "...        ...           ...     ...\n",
       "177321  177321  1.441574e+09      13\n",
       "177322  177322  1.441588e+09      14\n",
       "177323  177323  1.441667e+09      15\n",
       "177324  177324  1.441693e+09      16\n",
       "177325  177325  1.441721e+09      17\n",
       "\n",
       "[177326 rows x 3 columns]"
      ]
     },
     "execution_count": 17,
     "metadata": {},
     "output_type": "execute_result"
    }
   ],
   "source": [
    "encoder_positions"
   ]
  },
  {
   "cell_type": "code",
   "execution_count": null,
   "metadata": {},
   "outputs": [],
   "source": [
    "only_contrasts_and_accuracy= trialInfo[[\"stim_contrast\", \"correct\"]].dropna()\n",
    "only_contrasts_and_accuracy['correct'] = only_contrasts_and_accuracy['correct'].astype('int')\n",
    "only_contrasts_and_accuracy.groupby('stim_contrast').agg(np.mean)\n"
   ]
  },
  {
   "cell_type": "code",
   "execution_count": null,
   "metadata": {},
   "outputs": [],
   "source": [
    "trialInfo"
   ]
  },
  {
   "cell_type": "markdown",
   "metadata": {},
   "source": [
    "### Make behavior stim conditions to synchronize holography and pybpod ###"
   ]
  },
  {
   "cell_type": "code",
   "execution_count": null,
   "metadata": {},
   "outputs": [],
   "source": []
  },
  {
   "cell_type": "code",
   "execution_count": null,
   "metadata": {},
   "outputs": [],
   "source": [
    "window = 50# how many trials to average \n",
    "firsttrial=0\n",
    "lasttrial=4000\n",
    "print('fraction correct for session ' + 'was ' + str(np.mean(correct_responses[:lasttrial])))\n",
    "# get the info of which angle was shown at each trial \n",
    "stim_angle= [session_data[i]['stim_angle'] for i in range(len(session_data[:lasttrial]))]\n",
    "\n",
    "deg90 = np.where(np.array(stim_angle)>0)[0][firsttrial:lasttrial] # array of trial numbers where the angle was more than 0\n",
    "deg0= np.where(np.array(stim_angle)<=0)[0][firsttrial:lasttrial] # array of trial numbers where the angle was 0\n",
    "correct90 = [correct_responses[i] for i in deg90]#@[firsttrial:lasttrial]\n",
    "correct0 = [correct_responses[i] for i in deg0]#[firsttrial:lasttrial]\n",
    "\n",
    "#get the % of correct responses for each angle across the whole session\n",
    "print('fraction correct for angle 0 = ' + str(np.nanmean(correct0)))\n",
    "print('fraction correct for angle 90 = ' + str(np.mean(correct90)))\n",
    "\n",
    "\n",
    "# plot a moving average of the correct responses across trials for a given window\n",
    "plt.plot(moving_average(correct_responses[firsttrial:lasttrial],window))\n",
    "plt.title('Correct choices vs trial number',fontsize = 20)\n",
    "plt.xlabel('trial number',fontsize = 15)\n",
    "plt.ylabel('correct resposes',fontsize = 15)\n",
    "\n",
    "plt.ylim(0,1)"
   ]
  },
  {
   "cell_type": "code",
   "execution_count": null,
   "metadata": {
    "scrolled": true
   },
   "outputs": [],
   "source": [
    "#plot % of correct responses for each angle across the whole session with a rolling average\n",
    "# if correct responses are higher for one of the gratings, this indicates a bias.\n",
    "\n",
    "window = 20\n",
    "plt.plot(moving_average(correct90,window))\n",
    "plt.plot(moving_average(correct0,window))\n",
    "plt.title('Correct choices vs trial number for each angle',fontsize = 20)\n",
    "plt.xlabel('trial number',fontsize = 15)\n",
    "plt.ylabel('correct resposes',fontsize = 15)\n",
    "plt.ylim(0,1.1)\n",
    "xmax = max(len(correct90),len(correct0))\n",
    "plt.hlines(0.5, 0, xmax, colors='black',linestyles='dashed')\n",
    "plt.legend(['angle =  ' + str(i) for i in [-45,45]])\n",
    "plt.savefig(session_path + '//Correct_vs_trial_per_angle')\n"
   ]
  },
  {
   "cell_type": "code",
   "execution_count": null,
   "metadata": {
    "scrolled": true
   },
   "outputs": [],
   "source": [
    "session_path"
   ]
  },
  {
   "cell_type": "code",
   "execution_count": null,
   "metadata": {
    "scrolled": false
   },
   "outputs": [],
   "source": [
    "# compute the bias:\n",
    "\n",
    "# bias computation for repeat_on_error on sessions\n",
    "# %Left = ([N trials where angle presented was 0 & mouse was correct] + [N trials where angle presented was 90 and mouse was incorrect])/NtotalTrials\n",
    "percent_left = (len(correct0) + (len(deg90)-len(correct90)))/(len(deg0)+len(deg90))\n",
    "# Absolute bias = np.abs(0.5 - %Left)\n",
    "abs_bias = np.abs(0.5 - percent_left)\n",
    "\n",
    "# bias computation for repeat_on_error off sessions:\n",
    "\n",
    "# bar chart of % abs bias\n",
    "# categories = ['repeat_on_error on', 'repeat_on_error off']\n",
    "# values = [abs_bias_on, abs_bias_off]\n",
    "# plt.bar(categories, values)\n",
    "\n",
    "print('Percent Left Choices:')\n",
    "print(percent_left)\n",
    "print('Percent Absolute Bias:')\n",
    "print(abs_bias)"
   ]
  },
  {
   "cell_type": "code",
   "execution_count": null,
   "metadata": {},
   "outputs": [],
   "source": [
    "print(len(deg90))\n",
    "print(len(deg0))"
   ]
  },
  {
   "cell_type": "code",
   "execution_count": null,
   "metadata": {},
   "outputs": [],
   "source": [
    "import math\n",
    "math.pi/2"
   ]
  },
  {
   "cell_type": "code",
   "execution_count": null,
   "metadata": {},
   "outputs": [],
   "source": [
    "1*0.015"
   ]
  },
  {
   "cell_type": "code",
   "execution_count": null,
   "metadata": {},
   "outputs": [],
   "source": [
    "0.25*0.05"
   ]
  },
  {
   "cell_type": "code",
   "execution_count": null,
   "metadata": {},
   "outputs": [],
   "source": [
    "math.degrees(0.25*0.05)#%180"
   ]
  },
  {
   "cell_type": "code",
   "execution_count": null,
   "metadata": {},
   "outputs": [],
   "source": [
    "math.degrees(0.25/0.05)%180"
   ]
  },
  {
   "cell_type": "code",
   "execution_count": null,
   "metadata": {},
   "outputs": [],
   "source": []
  },
  {
   "cell_type": "code",
   "execution_count": null,
   "metadata": {},
   "outputs": [],
   "source": []
  },
  {
   "cell_type": "code",
   "execution_count": null,
   "metadata": {},
   "outputs": [],
   "source": []
  }
 ],
 "metadata": {
  "kernelspec": {
   "display_name": "base",
   "language": "python",
   "name": "python3"
  },
  "language_info": {
   "codemirror_mode": {
    "name": "ipython",
    "version": 3
   },
   "file_extension": ".py",
   "mimetype": "text/x-python",
   "name": "python",
   "nbconvert_exporter": "python",
   "pygments_lexer": "ipython3",
   "version": "3.9.13 (main, Aug 25 2022, 18:29:29) \n[Clang 12.0.0 ]"
  },
  "vscode": {
   "interpreter": {
    "hash": "0ed700301bc8a65c20ca8df8017f580aafbdadd0a88107b0c1c50c4f3e2b4102"
   }
  }
 },
 "nbformat": 4,
 "nbformat_minor": 4
}
