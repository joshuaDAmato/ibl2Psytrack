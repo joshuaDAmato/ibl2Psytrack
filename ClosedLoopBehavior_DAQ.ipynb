{
 "cells": [
  {
   "cell_type": "markdown",
   "metadata": {},
   "source": [
    "### LOAD AND PLOT DATA FROM A SESSION #### \n",
    "This notebook should run from within the iblenv.\n",
    "The functions are taken from the source code of the IBL library. \n",
    "\n",
    "For documentation check:\n",
    "\n",
    "https://int-brain-lab.github.io/iblenv/_autosummary/ibllib.io.raw_data_loaders.html?highlight=raw%20data%20loaders#module-ibllib.io.raw_data_loaders\n",
    "\n"
   ]
  },
  {
   "cell_type": "code",
   "execution_count": 1,
   "metadata": {},
   "outputs": [],
   "source": [
    "#!/usr/bin/env python\n",
    "# -*- coding:utf-8 -*-\n",
    "# @Author: Mora Ogando\n",
    "# @Date: Sunday, July 4th 2021, 1:28:46 pm\n",
    "\"\"\"\n",
    "\n",
    "Raw Data Loader functions for PyBpod rig\n",
    "\n",
    "Module contains one loader function per raw datafile\n",
    "\"\"\"\n",
    "#import things\n",
    "import json\n",
    "import logging\n",
    "import wave\n",
    "from datetime import datetime\n",
    "from pathlib import Path\n",
    "from typing import Union\n",
    "import matplotlib.pyplot as plt\n",
    "\n",
    "import itertools\n",
    "from glob import glob\n",
    "import pickle\n",
    "\n",
    "import numpy as np\n",
    "import pandas as pd\n",
    "import utils as ut\n",
    "\n",
    "#from ibllib.io import jsonable\n",
    "from ibllib.io import raw_data_loaders\n",
    "# from ibllib.misc import version\n",
    "# Helpers Mori\n",
    "\n",
    "def moving_average(x, w):\n",
    "    return np.convolve(x, np.ones(w), 'valid') / w\n",
    "\n",
    "def appendColumnToDF(df,OneDArray,columnName,appendTO):\n",
    "# the number of elements in the 1dArray and the number of elements in the appendTO column (i.e.: 'cell') has to match.\n",
    "    # 1. create a pandas series with your array\n",
    "    series = pd.Series(list(OneDArray),name=columnName)\n",
    "    # 2. create the index (has to match the index in \"appendTO\")\n",
    "    index= pd.Series(np.arange(0,len(OneDArray)),name=appendTO)\n",
    "    # 3. make a DataFrame with these \n",
    "    appendDF = pd.DataFrame(series,index)\n",
    "    \n",
    "    #4. join it onto a new dataframe\n",
    "    try:\n",
    "        df.reset_index(inplace=True)\n",
    "    except:\n",
    "        pass\n",
    "    df2 = df.set_index([appendTO])\n",
    "    df2 = df.join(appendDF,on=appendTO,how='left')\n",
    "    return df2\n",
    "\n",
    "def saveTrialWiseInfo_inServer(session_path):\n",
    "    #Load data \n",
    "    session_data = raw_data_loaders.load_data(session_path)\n",
    "    settings =raw_data_loaders.load_settings(session_path)\n",
    "    encoder_events = raw_data_loaders.load_encoder_events(session_path, settings=False)\n",
    "    encoder_positions =raw_data_loaders.load_encoder_positions(session_path, settings=False)\n",
    "    encoder_trial_info = raw_data_loaders.load_encoder_trial_info(session_path)\n",
    "\n",
    "    # correct responses is a boolean list of len = number of trials.\n",
    "\n",
    "\n",
    "    # append correct responses to trial info\n",
    "\n",
    "    # ((the number of elements in the 1dArray and the number of elements in the appendTO column (i.e.: 'cell') has to match.))\n",
    "    OneDArray = correct_responses\n",
    "    columnName = 'correct'\n",
    "    appendTO = 'trial_num'\n",
    "    trialInfo= appendColumnToDF(encoder_trial_info,OneDArray,columnName,appendTO)\n",
    "\n",
    "    # get the time in the same units and merge the encoder position with the trialInfo dataFrames\n",
    "    trialInfo['relative_time_ms'] = (pd.to_datetime(trialInfo.bns_ts).values -pd.to_datetime(trialInfo.bns_ts).values[0])/1000000\n",
    "    trialInfo['relative_time_ms'] = trialInfo.relative_time_ms.astype(np.int64) \n",
    "    encoder_positions['relative_time_ms'] = (encoder_positions.re_ts.values- encoder_positions.re_ts.values[0])/1000\n",
    "    merged_df = pd.merge(trialInfo, encoder_positions, on = 'relative_time_ms',how='outer')\n",
    "\n",
    "    # save\n",
    "\n",
    "    name = 'behavior_analysis_df'\n",
    "\n",
    "    merged_df.to_csv(path + name + '.csv')\n",
    "    out_path = r'W:\\Satsuma\\Mora//' + path.split('C:\\\\')[-1]\n",
    "    out_path \n",
    "    import os\n",
    "    try:\n",
    "        os.makedirs(out_path)\n",
    "        print('created a new results folder')\n",
    "    except:\n",
    "        print('couldnt make folder')\n",
    "        print(out_path)\n",
    "\n",
    "    merged_df.to_csv(out_path + name + '.csv')\n",
    "    trialInfo.to_csv(out_path + 'trialInfo.csv')\n",
    "    return  merged_df,trialInfo"
   ]
  },
  {
   "cell_type": "markdown",
   "metadata": {},
   "source": [
    "### Merge session info and save it in the server ###"
   ]
  },
  {
   "cell_type": "code",
   "execution_count": 2,
   "metadata": {},
   "outputs": [
    {
     "name": "stderr",
     "output_type": "stream",
     "text": [
      "2023-02-07 11:41:45.888 python[15007:14755434] +[CATransaction synchronize] called within transaction\n"
     ]
    }
   ],
   "source": [
    "session_path = ut.selectFolder()"
   ]
  },
  {
   "cell_type": "code",
   "execution_count": 3,
   "metadata": {},
   "outputs": [],
   "source": [
    "subject = 'MBOT53_010'\n",
    "date = '2022-07-23'\n",
    "session = '002'\n",
    "\n",
    "#Load data \n",
    "session_data = raw_data_loaders.load_data(session_path)\n",
    "settings =raw_data_loaders.load_settings(session_path)\n",
    "encoder_events = raw_data_loaders.load_encoder_events(session_path, settings=False)\n",
    "encoder_positions =raw_data_loaders.load_encoder_positions(session_path, settings=False)\n",
    "encoder_trial_info = raw_data_loaders.load_encoder_trial_info(session_path)\n"
   ]
  },
  {
   "cell_type": "code",
   "execution_count": 4,
   "metadata": {},
   "outputs": [],
   "source": [
    "# correct responses is a boolean list of len = number of trials.\n",
    "correct_responses = [session_data[i]['trial_correct'] for i in range(len(session_data))]\n",
    "# append correct responses to trial info\n",
    "# ((the number of elements in the 1dArray and the number of elements in the appendTO column (i.e.: 'cell') has to match.))\n",
    "OneDArray = correct_responses\n",
    "columnName = 'correct'\n",
    "appendTO = 'trial_num'\n",
    "trialInfo= appendColumnToDF(encoder_trial_info,OneDArray,columnName,appendTO)\n",
    "\n",
    "# # # get the time in the same units and merge the encoder position with the trialInfo dataFrames\n",
    "# trialInfo['relative_time_ms'] = (pd.to_datetime(trialInfo.bns_ts).values -pd.to_datetime(trialInfo.bns_ts).values[0])/1000000\n",
    "# trialInfo['relative_time_ms'] = trialInfo.relative_time_ms.astype(np.int64) \n",
    "# encoder_positions['relative_time_ms'] = (encoder_positions.re_ts.values- encoder_positions.re_ts.values[0])/1000\n",
    "# merged_df = pd.merge(trialInfo, encoder_positions, on = 'relative_time_ms',how='outer')"
   ]
  },
  {
   "cell_type": "code",
   "execution_count": 5,
   "metadata": {},
   "outputs": [
    {
     "data": {
      "text/plain": [
       "31"
      ]
     },
     "execution_count": 5,
     "metadata": {},
     "output_type": "execute_result"
    }
   ],
   "source": [
    "session_data[30]['trial_num']"
   ]
  },
  {
   "cell_type": "code",
   "execution_count": 6,
   "metadata": {},
   "outputs": [
    {
     "data": {
      "text/html": [
       "<div>\n",
       "<style scoped>\n",
       "    .dataframe tbody tr th:only-of-type {\n",
       "        vertical-align: middle;\n",
       "    }\n",
       "\n",
       "    .dataframe tbody tr th {\n",
       "        vertical-align: top;\n",
       "    }\n",
       "\n",
       "    .dataframe thead th {\n",
       "        text-align: right;\n",
       "    }\n",
       "</style>\n",
       "<table border=\"1\" class=\"dataframe\">\n",
       "  <thead>\n",
       "    <tr style=\"text-align: right;\">\n",
       "      <th></th>\n",
       "      <th>index</th>\n",
       "      <th>re_ts</th>\n",
       "      <th>re_pos</th>\n",
       "    </tr>\n",
       "  </thead>\n",
       "  <tbody>\n",
       "    <tr>\n",
       "      <th>0</th>\n",
       "      <td>0</td>\n",
       "      <td>2.844960e+05</td>\n",
       "      <td>-17</td>\n",
       "    </tr>\n",
       "    <tr>\n",
       "      <th>1</th>\n",
       "      <td>1</td>\n",
       "      <td>2.891770e+05</td>\n",
       "      <td>-18</td>\n",
       "    </tr>\n",
       "    <tr>\n",
       "      <th>2</th>\n",
       "      <td>2</td>\n",
       "      <td>2.942520e+05</td>\n",
       "      <td>-19</td>\n",
       "    </tr>\n",
       "    <tr>\n",
       "      <th>3</th>\n",
       "      <td>3</td>\n",
       "      <td>3.006290e+05</td>\n",
       "      <td>-20</td>\n",
       "    </tr>\n",
       "    <tr>\n",
       "      <th>4</th>\n",
       "      <td>4</td>\n",
       "      <td>3.333450e+05</td>\n",
       "      <td>-19</td>\n",
       "    </tr>\n",
       "    <tr>\n",
       "      <th>...</th>\n",
       "      <td>...</td>\n",
       "      <td>...</td>\n",
       "      <td>...</td>\n",
       "    </tr>\n",
       "    <tr>\n",
       "      <th>247384</th>\n",
       "      <td>247384</td>\n",
       "      <td>2.551896e+09</td>\n",
       "      <td>4</td>\n",
       "    </tr>\n",
       "    <tr>\n",
       "      <th>247385</th>\n",
       "      <td>247385</td>\n",
       "      <td>2.551974e+09</td>\n",
       "      <td>5</td>\n",
       "    </tr>\n",
       "    <tr>\n",
       "      <th>247386</th>\n",
       "      <td>247386</td>\n",
       "      <td>2.551996e+09</td>\n",
       "      <td>6</td>\n",
       "    </tr>\n",
       "    <tr>\n",
       "      <th>247387</th>\n",
       "      <td>247387</td>\n",
       "      <td>2.553223e+09</td>\n",
       "      <td>5</td>\n",
       "    </tr>\n",
       "    <tr>\n",
       "      <th>247388</th>\n",
       "      <td>247388</td>\n",
       "      <td>2.554713e+09</td>\n",
       "      <td>4</td>\n",
       "    </tr>\n",
       "  </tbody>\n",
       "</table>\n",
       "<p>247389 rows × 3 columns</p>\n",
       "</div>"
      ],
      "text/plain": [
       "         index         re_ts  re_pos\n",
       "0            0  2.844960e+05     -17\n",
       "1            1  2.891770e+05     -18\n",
       "2            2  2.942520e+05     -19\n",
       "3            3  3.006290e+05     -20\n",
       "4            4  3.333450e+05     -19\n",
       "...        ...           ...     ...\n",
       "247384  247384  2.551896e+09       4\n",
       "247385  247385  2.551974e+09       5\n",
       "247386  247386  2.551996e+09       6\n",
       "247387  247387  2.553223e+09       5\n",
       "247388  247388  2.554713e+09       4\n",
       "\n",
       "[247389 rows x 3 columns]"
      ]
     },
     "execution_count": 6,
     "metadata": {},
     "output_type": "execute_result"
    }
   ],
   "source": [
    "encoder_positions"
   ]
  },
  {
   "cell_type": "code",
   "execution_count": 7,
   "metadata": {},
   "outputs": [
    {
     "data": {
      "text/html": [
       "<div>\n",
       "<style scoped>\n",
       "    .dataframe tbody tr th:only-of-type {\n",
       "        vertical-align: middle;\n",
       "    }\n",
       "\n",
       "    .dataframe tbody tr th {\n",
       "        vertical-align: top;\n",
       "    }\n",
       "\n",
       "    .dataframe thead th {\n",
       "        text-align: right;\n",
       "    }\n",
       "</style>\n",
       "<table border=\"1\" class=\"dataframe\">\n",
       "  <thead>\n",
       "    <tr style=\"text-align: right;\">\n",
       "      <th></th>\n",
       "      <th>correct</th>\n",
       "    </tr>\n",
       "    <tr>\n",
       "      <th>stim_contrast</th>\n",
       "      <th></th>\n",
       "    </tr>\n",
       "  </thead>\n",
       "  <tbody>\n",
       "    <tr>\n",
       "      <th>1</th>\n",
       "      <td>0.613043</td>\n",
       "    </tr>\n",
       "  </tbody>\n",
       "</table>\n",
       "</div>"
      ],
      "text/plain": [
       "                correct\n",
       "stim_contrast          \n",
       "1              0.613043"
      ]
     },
     "execution_count": 7,
     "metadata": {},
     "output_type": "execute_result"
    }
   ],
   "source": [
    "only_contrasts_and_accuracy= trialInfo[[\"stim_contrast\", \"correct\"]].dropna()\n",
    "only_contrasts_and_accuracy['correct'] = only_contrasts_and_accuracy['correct'].astype('int')\n",
    "only_contrasts_and_accuracy.groupby('stim_contrast').agg(np.mean)\n"
   ]
  },
  {
   "cell_type": "code",
   "execution_count": 8,
   "metadata": {},
   "outputs": [
    {
     "data": {
      "text/html": [
       "<div>\n",
       "<style scoped>\n",
       "    .dataframe tbody tr th:only-of-type {\n",
       "        vertical-align: middle;\n",
       "    }\n",
       "\n",
       "    .dataframe tbody tr th {\n",
       "        vertical-align: top;\n",
       "    }\n",
       "\n",
       "    .dataframe thead th {\n",
       "        text-align: right;\n",
       "    }\n",
       "</style>\n",
       "<table border=\"1\" class=\"dataframe\">\n",
       "  <thead>\n",
       "    <tr style=\"text-align: right;\">\n",
       "      <th></th>\n",
       "      <th>index</th>\n",
       "      <th>trial_num</th>\n",
       "      <th>stim_pos_init</th>\n",
       "      <th>stim_contrast</th>\n",
       "      <th>stim_freq</th>\n",
       "      <th>stim_angle</th>\n",
       "      <th>stim_gain</th>\n",
       "      <th>stim_sigma</th>\n",
       "      <th>stim_phase</th>\n",
       "      <th>bns_ts</th>\n",
       "      <th>correct</th>\n",
       "    </tr>\n",
       "  </thead>\n",
       "  <tbody>\n",
       "    <tr>\n",
       "      <th>0</th>\n",
       "      <td>0</td>\n",
       "      <td>1</td>\n",
       "      <td>1</td>\n",
       "      <td>1</td>\n",
       "      <td>0.06</td>\n",
       "      <td>-0.785398</td>\n",
       "      <td>2</td>\n",
       "      <td>10000</td>\n",
       "      <td>0.000000</td>\n",
       "      <td>2022-08-29T17:49:56.9594368-07:00</td>\n",
       "      <td>True</td>\n",
       "    </tr>\n",
       "    <tr>\n",
       "      <th>1</th>\n",
       "      <td>1</td>\n",
       "      <td>2</td>\n",
       "      <td>1</td>\n",
       "      <td>1</td>\n",
       "      <td>0.06</td>\n",
       "      <td>0.785398</td>\n",
       "      <td>2</td>\n",
       "      <td>10000</td>\n",
       "      <td>272.158450</td>\n",
       "      <td>2022-08-29T17:50:04.7949568-07:00</td>\n",
       "      <td>True</td>\n",
       "    </tr>\n",
       "    <tr>\n",
       "      <th>2</th>\n",
       "      <td>2</td>\n",
       "      <td>3</td>\n",
       "      <td>1</td>\n",
       "      <td>1</td>\n",
       "      <td>0.06</td>\n",
       "      <td>0.785398</td>\n",
       "      <td>2</td>\n",
       "      <td>10000</td>\n",
       "      <td>228.441988</td>\n",
       "      <td>2022-08-29T17:50:10.4958720-07:00</td>\n",
       "      <td>True</td>\n",
       "    </tr>\n",
       "    <tr>\n",
       "      <th>3</th>\n",
       "      <td>3</td>\n",
       "      <td>4</td>\n",
       "      <td>-1</td>\n",
       "      <td>1</td>\n",
       "      <td>0.06</td>\n",
       "      <td>-0.785398</td>\n",
       "      <td>2</td>\n",
       "      <td>10000</td>\n",
       "      <td>64.094365</td>\n",
       "      <td>2022-08-29T17:50:16.7637248-07:00</td>\n",
       "      <td>True</td>\n",
       "    </tr>\n",
       "    <tr>\n",
       "      <th>4</th>\n",
       "      <td>4</td>\n",
       "      <td>5</td>\n",
       "      <td>1</td>\n",
       "      <td>1</td>\n",
       "      <td>0.06</td>\n",
       "      <td>0.785398</td>\n",
       "      <td>2</td>\n",
       "      <td>10000</td>\n",
       "      <td>230.379303</td>\n",
       "      <td>2022-08-29T17:50:21.2978048-07:00</td>\n",
       "      <td>True</td>\n",
       "    </tr>\n",
       "    <tr>\n",
       "      <th>...</th>\n",
       "      <td>...</td>\n",
       "      <td>...</td>\n",
       "      <td>...</td>\n",
       "      <td>...</td>\n",
       "      <td>...</td>\n",
       "      <td>...</td>\n",
       "      <td>...</td>\n",
       "      <td>...</td>\n",
       "      <td>...</td>\n",
       "      <td>...</td>\n",
       "      <td>...</td>\n",
       "    </tr>\n",
       "    <tr>\n",
       "      <th>227</th>\n",
       "      <td>227</td>\n",
       "      <td>228</td>\n",
       "      <td>1</td>\n",
       "      <td>1</td>\n",
       "      <td>0.06</td>\n",
       "      <td>0.785398</td>\n",
       "      <td>2</td>\n",
       "      <td>10000</td>\n",
       "      <td>84.036052</td>\n",
       "      <td>2022-08-29T18:30:14.4667008-07:00</td>\n",
       "      <td>False</td>\n",
       "    </tr>\n",
       "    <tr>\n",
       "      <th>228</th>\n",
       "      <td>228</td>\n",
       "      <td>229</td>\n",
       "      <td>1</td>\n",
       "      <td>1</td>\n",
       "      <td>0.06</td>\n",
       "      <td>0.785398</td>\n",
       "      <td>2</td>\n",
       "      <td>10000</td>\n",
       "      <td>33.721887</td>\n",
       "      <td>2022-08-29T18:30:42.3395200-07:00</td>\n",
       "      <td>False</td>\n",
       "    </tr>\n",
       "    <tr>\n",
       "      <th>229</th>\n",
       "      <td>229</td>\n",
       "      <td>230</td>\n",
       "      <td>1</td>\n",
       "      <td>1</td>\n",
       "      <td>0.06</td>\n",
       "      <td>0.785398</td>\n",
       "      <td>2</td>\n",
       "      <td>10000</td>\n",
       "      <td>297.435996</td>\n",
       "      <td>2022-08-29T18:31:10.2107264-07:00</td>\n",
       "      <td>False</td>\n",
       "    </tr>\n",
       "    <tr>\n",
       "      <th>230</th>\n",
       "      <td>230</td>\n",
       "      <td>231</td>\n",
       "      <td>1</td>\n",
       "      <td>1</td>\n",
       "      <td>0.06</td>\n",
       "      <td>0.785398</td>\n",
       "      <td>2</td>\n",
       "      <td>10000</td>\n",
       "      <td>102.813875</td>\n",
       "      <td>2022-08-29T18:31:38.0673280-07:00</td>\n",
       "      <td>NaN</td>\n",
       "    </tr>\n",
       "    <tr>\n",
       "      <th>231</th>\n",
       "      <td>231</td>\n",
       "      <td>232</td>\n",
       "      <td>1</td>\n",
       "      <td>1</td>\n",
       "      <td>0.06</td>\n",
       "      <td>0.785398</td>\n",
       "      <td>2</td>\n",
       "      <td>10000</td>\n",
       "      <td>346.685239</td>\n",
       "      <td>2022-08-29T18:32:05.9328384-07:00</td>\n",
       "      <td>NaN</td>\n",
       "    </tr>\n",
       "  </tbody>\n",
       "</table>\n",
       "<p>232 rows × 11 columns</p>\n",
       "</div>"
      ],
      "text/plain": [
       "     index  trial_num  stim_pos_init  stim_contrast  stim_freq  stim_angle  \\\n",
       "0        0          1              1              1       0.06   -0.785398   \n",
       "1        1          2              1              1       0.06    0.785398   \n",
       "2        2          3              1              1       0.06    0.785398   \n",
       "3        3          4             -1              1       0.06   -0.785398   \n",
       "4        4          5              1              1       0.06    0.785398   \n",
       "..     ...        ...            ...            ...        ...         ...   \n",
       "227    227        228              1              1       0.06    0.785398   \n",
       "228    228        229              1              1       0.06    0.785398   \n",
       "229    229        230              1              1       0.06    0.785398   \n",
       "230    230        231              1              1       0.06    0.785398   \n",
       "231    231        232              1              1       0.06    0.785398   \n",
       "\n",
       "     stim_gain  stim_sigma  stim_phase                             bns_ts  \\\n",
       "0            2       10000    0.000000  2022-08-29T17:49:56.9594368-07:00   \n",
       "1            2       10000  272.158450  2022-08-29T17:50:04.7949568-07:00   \n",
       "2            2       10000  228.441988  2022-08-29T17:50:10.4958720-07:00   \n",
       "3            2       10000   64.094365  2022-08-29T17:50:16.7637248-07:00   \n",
       "4            2       10000  230.379303  2022-08-29T17:50:21.2978048-07:00   \n",
       "..         ...         ...         ...                                ...   \n",
       "227          2       10000   84.036052  2022-08-29T18:30:14.4667008-07:00   \n",
       "228          2       10000   33.721887  2022-08-29T18:30:42.3395200-07:00   \n",
       "229          2       10000  297.435996  2022-08-29T18:31:10.2107264-07:00   \n",
       "230          2       10000  102.813875  2022-08-29T18:31:38.0673280-07:00   \n",
       "231          2       10000  346.685239  2022-08-29T18:32:05.9328384-07:00   \n",
       "\n",
       "    correct  \n",
       "0      True  \n",
       "1      True  \n",
       "2      True  \n",
       "3      True  \n",
       "4      True  \n",
       "..      ...  \n",
       "227   False  \n",
       "228   False  \n",
       "229   False  \n",
       "230     NaN  \n",
       "231     NaN  \n",
       "\n",
       "[232 rows x 11 columns]"
      ]
     },
     "execution_count": 8,
     "metadata": {},
     "output_type": "execute_result"
    }
   ],
   "source": [
    "trialInfo"
   ]
  },
  {
   "cell_type": "markdown",
   "metadata": {},
   "source": [
    "### Make behavior stim conditions to synchronize holography and pybpod ###"
   ]
  },
  {
   "cell_type": "code",
   "execution_count": null,
   "metadata": {},
   "outputs": [],
   "source": []
  },
  {
   "cell_type": "code",
   "execution_count": 9,
   "metadata": {},
   "outputs": [
    {
     "name": "stdout",
     "output_type": "stream",
     "text": [
      "fraction correct for session was 0.6147186147186147\n",
      "fraction correct for angle 0 = 0.71\n",
      "fraction correct for angle 90 = 0.5419847328244275\n"
     ]
    },
    {
     "data": {
      "text/plain": [
       "(0.0, 1.0)"
      ]
     },
     "execution_count": 9,
     "metadata": {},
     "output_type": "execute_result"
    },
    {
     "data": {
      "image/png": "[encoded data removed]",
      "text/plain": [
       "<Figure size 640x480 with 1 Axes>"
      ]
     },
     "metadata": {},
     "output_type": "display_data"
    }
   ],
   "source": [
    "window = 50# how many trials to average \n",
    "firsttrial=0\n",
    "lasttrial=4000\n",
    "print('fraction correct for session ' + 'was ' + str(np.mean(correct_responses[:lasttrial])))\n",
    "# get the info of which angle was shown at each trial \n",
    "stim_angle= [session_data[i]['stim_angle'] for i in range(len(session_data[:lasttrial]))]\n",
    "\n",
    "deg90 = np.where(np.array(stim_angle)>0)[0][firsttrial:lasttrial] # array of trial numbers where the angle was more than 0\n",
    "deg0= np.where(np.array(stim_angle)<=0)[0][firsttrial:lasttrial] # array of trial numbers where the angle was 0\n",
    "correct90 = [correct_responses[i] for i in deg90]#@[firsttrial:lasttrial]\n",
    "correct0 = [correct_responses[i] for i in deg0]#[firsttrial:lasttrial]\n",
    "\n",
    "#get the % of correct responses for each angle across the whole session\n",
    "print('fraction correct for angle 0 = ' + str(np.nanmean(correct0)))\n",
    "print('fraction correct for angle 90 = ' + str(np.mean(correct90)))\n",
    "\n",
    "\n",
    "# plot a moving average of the correct responses across trials for a given window\n",
    "plt.plot(moving_average(correct_responses[firsttrial:lasttrial],window))\n",
    "plt.title('Correct choices vs trial number',fontsize = 20)\n",
    "plt.xlabel('trial number',fontsize = 15)\n",
    "plt.ylabel('correct resposes',fontsize = 15)\n",
    "\n",
    "plt.ylim(0,1)"
   ]
  },
  {
   "cell_type": "code",
   "execution_count": 10,
   "metadata": {
    "scrolled": true
   },
   "outputs": [
    {
     "data": {
      "image/png": "[encoded data removed]",
      "text/plain": [
       "<Figure size 640x480 with 1 Axes>"
      ]
     },
     "metadata": {},
     "output_type": "display_data"
    }
   ],
   "source": [
    "#plot % of correct responses for each angle across the whole session with a rolling average\n",
    "# if correct responses are higher for one of the gratings, this indicates a bias.\n",
    "\n",
    "window = 20\n",
    "plt.plot(moving_average(correct90,window))\n",
    "plt.plot(moving_average(correct0,window))\n",
    "plt.title('Correct choices vs trial number for each angle',fontsize = 20)\n",
    "plt.xlabel('trial number',fontsize = 15)\n",
    "plt.ylabel('correct resposes',fontsize = 15)\n",
    "plt.ylim(0,1.1)\n",
    "xmax = max(len(correct90),len(correct0))\n",
    "plt.hlines(0.5, 0, xmax, colors='black',linestyles='dashed')\n",
    "plt.legend(['angle =  ' + str(i) for i in [-45,45]])\n",
    "plt.savefig(session_path + '//Correct_vs_trial_per_angle')\n"
   ]
  },
  {
   "cell_type": "code",
   "execution_count": 11,
   "metadata": {
    "scrolled": true
   },
   "outputs": [
    {
     "data": {
      "text/plain": [
       "'/Volumes/externalHD /test data/MBOT53_013/2022-08-29/001'"
      ]
     },
     "execution_count": 11,
     "metadata": {},
     "output_type": "execute_result"
    }
   ],
   "source": [
    "session_path"
   ]
  },
  {
   "cell_type": "code",
   "execution_count": 12,
   "metadata": {
    "scrolled": false
   },
   "outputs": [
    {
     "name": "stdout",
     "output_type": "stream",
     "text": [
      "Percent Left Choices:\n",
      "0.4329004329004329\n",
      "Percent Absolute Bias:\n",
      "0.0670995670995671\n"
     ]
    }
   ],
   "source": [
    "# compute the bias:\n",
    "\n",
    "# bias computation for repeat_on_error on sessions\n",
    "# %Left = ([N trials where angle presented was 0 & mouse was correct] + [N trials where angle presented was 90 and mouse was incorrect])/NtotalTrials\n",
    "percent_left = (len(correct0) + (len(deg90)-len(correct90)))/(len(deg0)+len(deg90))\n",
    "# Absolute bias = np.abs(0.5 - %Left)\n",
    "abs_bias = np.abs(0.5 - percent_left)\n",
    "\n",
    "# bias computation for repeat_on_error off sessions:\n",
    "\n",
    "# bar chart of % abs bias\n",
    "# categories = ['repeat_on_error on', 'repeat_on_error off']\n",
    "# values = [abs_bias_on, abs_bias_off]\n",
    "# plt.bar(categories, values)\n",
    "\n",
    "print('Percent Left Choices:')\n",
    "print(percent_left)\n",
    "print('Percent Absolute Bias:')\n",
    "print(abs_bias)"
   ]
  },
  {
   "cell_type": "code",
   "execution_count": 13,
   "metadata": {},
   "outputs": [
    {
     "name": "stdout",
     "output_type": "stream",
     "text": [
      "131\n",
      "100\n"
     ]
    }
   ],
   "source": [
    "print(len(deg90))\n",
    "print(len(deg0))"
   ]
  },
  {
   "cell_type": "code",
   "execution_count": 14,
   "metadata": {},
   "outputs": [
    {
     "data": {
      "text/plain": [
       "1.5707963267948966"
      ]
     },
     "execution_count": 14,
     "metadata": {},
     "output_type": "execute_result"
    }
   ],
   "source": [
    "import math\n",
    "math.pi/2"
   ]
  },
  {
   "cell_type": "code",
   "execution_count": null,
   "metadata": {},
   "outputs": [],
   "source": [
    "1*0.015"
   ]
  },
  {
   "cell_type": "code",
   "execution_count": null,
   "metadata": {},
   "outputs": [],
   "source": [
    "0.25*0.05"
   ]
  },
  {
   "cell_type": "code",
   "execution_count": null,
   "metadata": {},
   "outputs": [],
   "source": [
    "math.degrees(0.25*0.05)#%180"
   ]
  },
  {
   "cell_type": "code",
   "execution_count": null,
   "metadata": {},
   "outputs": [],
   "source": [
    "math.degrees(0.25/0.05)%180"
   ]
  },
  {
   "cell_type": "code",
   "execution_count": null,
   "metadata": {},
   "outputs": [],
   "source": []
  },
  {
   "cell_type": "code",
   "execution_count": null,
   "metadata": {},
   "outputs": [],
   "source": []
  },
  {
   "cell_type": "code",
   "execution_count": null,
   "metadata": {},
   "outputs": [],
   "source": []
  }
 ],
 "metadata": {
  "kernelspec": {
   "display_name": "psytrack",
   "language": "python",
   "name": "python3"
  },
  "language_info": {
   "codemirror_mode": {
    "name": "ipython",
    "version": 3
   },
   "file_extension": ".py",
   "mimetype": "text/x-python",
   "name": "python",
   "nbconvert_exporter": "python",
   "pygments_lexer": "ipython3",
   "version": "3.10.9"
  },
  "vscode": {
   "interpreter": {
    "hash": "7318ee3909646554c6a095e7c8a88e41b51c9591461c62e8fdd55c1907315c5a"
   }
  }
 },
 "nbformat": 4,
 "nbformat_minor": 4
}
