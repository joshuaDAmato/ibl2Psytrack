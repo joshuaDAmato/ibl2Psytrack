{
 "cells": [
  {
   "cell_type": "code",
   "execution_count": 1,
   "metadata": {},
   "outputs": [],
   "source": [
    "import utils as ut"
   ]
  },
  {
   "cell_type": "code",
   "execution_count": 2,
   "metadata": {},
   "outputs": [],
   "source": [
    "import ibllib.io.raw_data_loaders as raw"
   ]
  },
  {
   "cell_type": "code",
   "execution_count": 7,
   "metadata": {},
   "outputs": [],
   "source": [
    "import pandas as pd"
   ]
  },
  {
   "attachments": {},
   "cell_type": "markdown",
   "metadata": {},
   "source": [
    "# Putting Multiple Days of Data into a Single npz File\n",
    "\n",
    "### Getting Training Session Paths\n",
    "* get user choice of a folder for that mouse \n",
    "* generate dict w/ the file paths of each day as keys\n",
    "* for each key, generate a list of the file paths contained w/in that folder  \n",
    "\n",
    "### Getting the number of trials in each day \n",
    "* Run the same data processing as was used on a single file (above) on each file in the list of file paths for each day\n",
    "    * create an empty list for day lengths\n",
    "    * get the number of trials in each day and append it to the list"
   ]
  },
  {
   "cell_type": "code",
   "execution_count": 3,
   "metadata": {},
   "outputs": [
    {
     "name": "stderr",
     "output_type": "stream",
     "text": [
      "2023-02-10 17:35:00.731 python[22416:17393683] +[CATransaction synchronize] called within transaction\n",
      "2023-02-10 17:35:00.895 python[22416:17393683] +[CATransaction synchronize] called within transaction\n"
     ]
    },
    {
     "data": {
      "text/plain": [
       "['/Users/joshuadamato/Documents/adesnikLab/sampleBehaviorData/MBOT53_013/2022-10-10',\n",
       " '/Users/joshuadamato/Documents/adesnikLab/sampleBehaviorData/MBOT53_013/2022-10-18',\n",
       " '/Users/joshuadamato/Documents/adesnikLab/sampleBehaviorData/MBOT53_013/2022-10-11',\n",
       " '/Users/joshuadamato/Documents/adesnikLab/sampleBehaviorData/MBOT53_013/2022-09-14',\n",
       " '/Users/joshuadamato/Documents/adesnikLab/sampleBehaviorData/MBOT53_013/2022-09-13',\n",
       " '/Users/joshuadamato/Documents/adesnikLab/sampleBehaviorData/MBOT53_013/2022-09-12',\n",
       " '/Users/joshuadamato/Documents/adesnikLab/sampleBehaviorData/MBOT53_013/2022-09-15',\n",
       " '/Users/joshuadamato/Documents/adesnikLab/sampleBehaviorData/MBOT53_013/2022-11-21',\n",
       " '/Users/joshuadamato/Documents/adesnikLab/sampleBehaviorData/MBOT53_013/2022-09-08',\n",
       " '/Users/joshuadamato/Documents/adesnikLab/sampleBehaviorData/MBOT53_013/2022-09-30',\n",
       " '/Users/joshuadamato/Documents/adesnikLab/sampleBehaviorData/MBOT53_013/2022-09-06',\n",
       " '/Users/joshuadamato/Documents/adesnikLab/sampleBehaviorData/MBOT53_013/2022-09-01',\n",
       " '/Users/joshuadamato/Documents/adesnikLab/sampleBehaviorData/MBOT53_013/2022-09-07',\n",
       " '/Users/joshuadamato/Documents/adesnikLab/sampleBehaviorData/MBOT53_013/2022-08-31',\n",
       " '/Users/joshuadamato/Documents/adesnikLab/sampleBehaviorData/MBOT53_013/2022-10-03',\n",
       " '/Users/joshuadamato/Documents/adesnikLab/sampleBehaviorData/MBOT53_013/2022-10-04',\n",
       " '/Users/joshuadamato/Documents/adesnikLab/sampleBehaviorData/MBOT53_013/2022-08-30',\n",
       " '/Users/joshuadamato/Documents/adesnikLab/sampleBehaviorData/MBOT53_013/2022-08-27',\n",
       " '/Users/joshuadamato/Documents/adesnikLab/sampleBehaviorData/MBOT53_013/2022-10-13',\n",
       " '/Users/joshuadamato/Documents/adesnikLab/sampleBehaviorData/MBOT53_013/2022-08-29',\n",
       " '/Users/joshuadamato/Documents/adesnikLab/sampleBehaviorData/MBOT53_013/2022-10-12',\n",
       " '/Users/joshuadamato/Documents/adesnikLab/sampleBehaviorData/MBOT53_013/2022-09-17',\n",
       " '/Users/joshuadamato/Documents/adesnikLab/sampleBehaviorData/MBOT53_013/2022-09-28',\n",
       " '/Users/joshuadamato/Documents/adesnikLab/sampleBehaviorData/MBOT53_013/2022-09-21',\n",
       " '/Users/joshuadamato/Documents/adesnikLab/sampleBehaviorData/MBOT53_013/2022-09-26',\n",
       " '/Users/joshuadamato/Documents/adesnikLab/sampleBehaviorData/MBOT53_013/2022-09-19',\n",
       " '/Users/joshuadamato/Documents/adesnikLab/sampleBehaviorData/MBOT53_013/2022-09-27',\n",
       " '/Users/joshuadamato/Documents/adesnikLab/sampleBehaviorData/MBOT53_013/2022-11-22',\n",
       " '/Users/joshuadamato/Documents/adesnikLab/sampleBehaviorData/MBOT53_013/2022-09-29',\n",
       " '/Users/joshuadamato/Documents/adesnikLab/sampleBehaviorData/MBOT53_013/2022-11-07',\n",
       " '/Users/joshuadamato/Documents/adesnikLab/sampleBehaviorData/MBOT53_013/2022-09-04',\n",
       " '/Users/joshuadamato/Documents/adesnikLab/sampleBehaviorData/MBOT53_013/2022-10-06',\n",
       " '/Users/joshuadamato/Documents/adesnikLab/sampleBehaviorData/MBOT53_013/2022-07-28']"
      ]
     },
     "execution_count": 3,
     "metadata": {},
     "output_type": "execute_result"
    }
   ],
   "source": [
    "# get user choice of folder path for a particular mouse\n",
    "mouseFolderPath = ut.selectFolder()\n",
    "\n",
    "# generate a list of the file paths of the subfolders to mouseFolderPath\n",
    "mouseSessionsPaths_lst = ut.getSubfolders(mouseFolderPath)\n",
    "mouseSessionsPaths_lst # should contain a list of folders titled by date "
   ]
  },
  {
   "cell_type": "code",
   "execution_count": 22,
   "metadata": {},
   "outputs": [],
   "source": [
    "mouseFolderPath\n",
    "# there are multiple slash symbols in mouseFolderPath, so we need to find the last one and then take the substring after that last slash symbol\n",
    "mouseName = mouseFolderPath[mouseFolderPath.rfind('/')+1:]\n",
    "mouseName"
   ]
  },
  {
   "cell_type": "code",
   "execution_count": 4,
   "metadata": {},
   "outputs": [
    {
     "data": {
      "text/plain": [
       "{'2022-10-10': ['/Users/joshuadamato/Documents/adesnikLab/sampleBehaviorData/MBOT53_013/2022-10-10/001'],\n",
       " '2022-10-18': ['/Users/joshuadamato/Documents/adesnikLab/sampleBehaviorData/MBOT53_013/2022-10-18/001',\n",
       "  '/Users/joshuadamato/Documents/adesnikLab/sampleBehaviorData/MBOT53_013/2022-10-18/002'],\n",
       " '2022-10-11': ['/Users/joshuadamato/Documents/adesnikLab/sampleBehaviorData/MBOT53_013/2022-10-11/001'],\n",
       " '2022-09-14': ['/Users/joshuadamato/Documents/adesnikLab/sampleBehaviorData/MBOT53_013/2022-09-14/001'],\n",
       " '2022-09-13': ['/Users/joshuadamato/Documents/adesnikLab/sampleBehaviorData/MBOT53_013/2022-09-13/001'],\n",
       " '2022-09-12': ['/Users/joshuadamato/Documents/adesnikLab/sampleBehaviorData/MBOT53_013/2022-09-12/001'],\n",
       " '2022-09-15': ['/Users/joshuadamato/Documents/adesnikLab/sampleBehaviorData/MBOT53_013/2022-09-15/001',\n",
       "  '/Users/joshuadamato/Documents/adesnikLab/sampleBehaviorData/MBOT53_013/2022-09-15/002'],\n",
       " '2022-11-21': ['/Users/joshuadamato/Documents/adesnikLab/sampleBehaviorData/MBOT53_013/2022-11-21/001',\n",
       "  '/Users/joshuadamato/Documents/adesnikLab/sampleBehaviorData/MBOT53_013/2022-11-21/002'],\n",
       " '2022-09-08': ['/Users/joshuadamato/Documents/adesnikLab/sampleBehaviorData/MBOT53_013/2022-09-08/001'],\n",
       " '2022-09-30': ['/Users/joshuadamato/Documents/adesnikLab/sampleBehaviorData/MBOT53_013/2022-09-30/001'],\n",
       " '2022-09-06': ['/Users/joshuadamato/Documents/adesnikLab/sampleBehaviorData/MBOT53_013/2022-09-06/001'],\n",
       " '2022-09-01': ['/Users/joshuadamato/Documents/adesnikLab/sampleBehaviorData/MBOT53_013/2022-09-01/001'],\n",
       " '2022-09-07': ['/Users/joshuadamato/Documents/adesnikLab/sampleBehaviorData/MBOT53_013/2022-09-07/001'],\n",
       " '2022-08-31': ['/Users/joshuadamato/Documents/adesnikLab/sampleBehaviorData/MBOT53_013/2022-08-31/001'],\n",
       " '2022-10-03': ['/Users/joshuadamato/Documents/adesnikLab/sampleBehaviorData/MBOT53_013/2022-10-03/001',\n",
       "  '/Users/joshuadamato/Documents/adesnikLab/sampleBehaviorData/MBOT53_013/2022-10-03/002'],\n",
       " '2022-10-04': ['/Users/joshuadamato/Documents/adesnikLab/sampleBehaviorData/MBOT53_013/2022-10-04/001'],\n",
       " '2022-08-30': ['/Users/joshuadamato/Documents/adesnikLab/sampleBehaviorData/MBOT53_013/2022-08-30/001',\n",
       "  '/Users/joshuadamato/Documents/adesnikLab/sampleBehaviorData/MBOT53_013/2022-08-30/003',\n",
       "  '/Users/joshuadamato/Documents/adesnikLab/sampleBehaviorData/MBOT53_013/2022-08-30/002'],\n",
       " '2022-08-27': ['/Users/joshuadamato/Documents/adesnikLab/sampleBehaviorData/MBOT53_013/2022-08-27/001'],\n",
       " '2022-10-13': ['/Users/joshuadamato/Documents/adesnikLab/sampleBehaviorData/MBOT53_013/2022-10-13/001',\n",
       "  '/Users/joshuadamato/Documents/adesnikLab/sampleBehaviorData/MBOT53_013/2022-10-13/003',\n",
       "  '/Users/joshuadamato/Documents/adesnikLab/sampleBehaviorData/MBOT53_013/2022-10-13/002'],\n",
       " '2022-08-29': ['/Users/joshuadamato/Documents/adesnikLab/sampleBehaviorData/MBOT53_013/2022-08-29/001'],\n",
       " '2022-10-12': ['/Users/joshuadamato/Documents/adesnikLab/sampleBehaviorData/MBOT53_013/2022-10-12/001',\n",
       "  '/Users/joshuadamato/Documents/adesnikLab/sampleBehaviorData/MBOT53_013/2022-10-12/002'],\n",
       " '2022-09-17': ['/Users/joshuadamato/Documents/adesnikLab/sampleBehaviorData/MBOT53_013/2022-09-17/001'],\n",
       " '2022-09-28': ['/Users/joshuadamato/Documents/adesnikLab/sampleBehaviorData/MBOT53_013/2022-09-28/001'],\n",
       " '2022-09-21': ['/Users/joshuadamato/Documents/adesnikLab/sampleBehaviorData/MBOT53_013/2022-09-21/001'],\n",
       " '2022-09-26': ['/Users/joshuadamato/Documents/adesnikLab/sampleBehaviorData/MBOT53_013/2022-09-26/001',\n",
       "  '/Users/joshuadamato/Documents/adesnikLab/sampleBehaviorData/MBOT53_013/2022-09-26/003',\n",
       "  '/Users/joshuadamato/Documents/adesnikLab/sampleBehaviorData/MBOT53_013/2022-09-26/002'],\n",
       " '2022-09-19': ['/Users/joshuadamato/Documents/adesnikLab/sampleBehaviorData/MBOT53_013/2022-09-19/001',\n",
       "  '/Users/joshuadamato/Documents/adesnikLab/sampleBehaviorData/MBOT53_013/2022-09-19/002'],\n",
       " '2022-09-27': ['/Users/joshuadamato/Documents/adesnikLab/sampleBehaviorData/MBOT53_013/2022-09-27/001',\n",
       "  '/Users/joshuadamato/Documents/adesnikLab/sampleBehaviorData/MBOT53_013/2022-09-27/002'],\n",
       " '2022-11-22': ['/Users/joshuadamato/Documents/adesnikLab/sampleBehaviorData/MBOT53_013/2022-11-22/001',\n",
       "  '/Users/joshuadamato/Documents/adesnikLab/sampleBehaviorData/MBOT53_013/2022-11-22/002'],\n",
       " '2022-09-29': ['/Users/joshuadamato/Documents/adesnikLab/sampleBehaviorData/MBOT53_013/2022-09-29/001'],\n",
       " '2022-11-07': ['/Users/joshuadamato/Documents/adesnikLab/sampleBehaviorData/MBOT53_013/2022-11-07/001',\n",
       "  '/Users/joshuadamato/Documents/adesnikLab/sampleBehaviorData/MBOT53_013/2022-11-07/003',\n",
       "  '/Users/joshuadamato/Documents/adesnikLab/sampleBehaviorData/MBOT53_013/2022-11-07/002'],\n",
       " '2022-09-04': ['/Users/joshuadamato/Documents/adesnikLab/sampleBehaviorData/MBOT53_013/2022-09-04/001'],\n",
       " '2022-10-06': ['/Users/joshuadamato/Documents/adesnikLab/sampleBehaviorData/MBOT53_013/2022-10-06/001'],\n",
       " '2022-07-28': ['/Users/joshuadamato/Documents/adesnikLab/sampleBehaviorData/MBOT53_013/2022-07-28/001']}"
      ]
     },
     "execution_count": 4,
     "metadata": {},
     "output_type": "execute_result"
    }
   ],
   "source": [
    "dailySessions_dict = {}\n",
    "for sessionPath in mouseSessionsPaths_lst:\n",
    "    dailySessions_dict[sessionPath[-10:]] = ut.getSubfolders(sessionPath)\n",
    "\n",
    "dailySessions_dict"
   ]
  },
  {
   "cell_type": "code",
   "execution_count": 5,
   "metadata": {},
   "outputs": [],
   "source": [
    "# function for changing values to binary(ish) format\n",
    "def changeVals(x):\n",
    "    if x < 0:\n",
    "        return 1\n",
    "    else:\n",
    "        return 2"
   ]
  },
  {
   "cell_type": "code",
   "execution_count": 13,
   "metadata": {},
   "outputs": [
    {
     "name": "stdout",
     "output_type": "stream",
     "text": [
      "warning, 1 trial's is/are missing from the data dictionary\n",
      "warning, 1 trial's is/are missing from the data dictionary\n",
      "warning, -57 trial's is/are missing from the data dictionary\n"
     ]
    },
    {
     "ename": "ValueError",
     "evalue": "Length of values (437) does not match length of index (57)",
     "output_type": "error",
     "traceback": [
      "\u001b[0;31m---------------------------------------------------------------------------\u001b[0m",
      "\u001b[0;31mValueError\u001b[0m                                Traceback (most recent call last)",
      "Cell \u001b[0;32mIn[13], line 28\u001b[0m\n\u001b[1;32m     26\u001b[0m \u001b[39m# injecting trial-wise data into the trialinfo_df, changing values to 1 or 2 to conform to psytrack's format\u001b[39;00m\n\u001b[1;32m     27\u001b[0m \u001b[39m\u001b[39m\u001b[39m\"\"\"correct -- the accurarcy of the choice (1 = correct, 2 = incorrect)\"\"\"\u001b[39;00m\n\u001b[0;32m---> 28\u001b[0m trialinfo_df\u001b[39m.\u001b[39;49mloc[:, \u001b[39m'\u001b[39;49m\u001b[39mcorrect\u001b[39;49m\u001b[39m'\u001b[39;49m] \u001b[39m=\u001b[39m [\u001b[39m1\u001b[39m \u001b[39mif\u001b[39;00m x \u001b[39melse\u001b[39;00m \u001b[39m0\u001b[39m \u001b[39mfor\u001b[39;00m x \u001b[39min\u001b[39;00m correcttrials_lst]\n\u001b[1;32m     30\u001b[0m \u001b[39m# changing stim angle value to 0 (-left) or 1 (+right) \u001b[39;00m\n\u001b[1;32m     31\u001b[0m trialinfo_df[\u001b[39m'\u001b[39m\u001b[39manswer\u001b[39m\u001b[39m'\u001b[39m] \u001b[39m=\u001b[39m trialinfo_df[\u001b[39m'\u001b[39m\u001b[39mstim_angle\u001b[39m\u001b[39m'\u001b[39m]\u001b[39m.\u001b[39mapply(changeVals)\n",
      "File \u001b[0;32m~/opt/anaconda3/envs/psytrack/lib/python3.10/site-packages/pandas/core/indexing.py:818\u001b[0m, in \u001b[0;36m_LocationIndexer.__setitem__\u001b[0;34m(self, key, value)\u001b[0m\n\u001b[1;32m    815\u001b[0m \u001b[39mself\u001b[39m\u001b[39m.\u001b[39m_has_valid_setitem_indexer(key)\n\u001b[1;32m    817\u001b[0m iloc \u001b[39m=\u001b[39m \u001b[39mself\u001b[39m \u001b[39mif\u001b[39;00m \u001b[39mself\u001b[39m\u001b[39m.\u001b[39mname \u001b[39m==\u001b[39m \u001b[39m\"\u001b[39m\u001b[39miloc\u001b[39m\u001b[39m\"\u001b[39m \u001b[39melse\u001b[39;00m \u001b[39mself\u001b[39m\u001b[39m.\u001b[39mobj\u001b[39m.\u001b[39miloc\n\u001b[0;32m--> 818\u001b[0m iloc\u001b[39m.\u001b[39;49m_setitem_with_indexer(indexer, value, \u001b[39mself\u001b[39;49m\u001b[39m.\u001b[39;49mname)\n",
      "File \u001b[0;32m~/opt/anaconda3/envs/psytrack/lib/python3.10/site-packages/pandas/core/indexing.py:1728\u001b[0m, in \u001b[0;36m_iLocIndexer._setitem_with_indexer\u001b[0;34m(self, indexer, value, name)\u001b[0m\n\u001b[1;32m   1725\u001b[0m \u001b[39m# add a new item with the dtype setup\u001b[39;00m\n\u001b[1;32m   1726\u001b[0m \u001b[39mif\u001b[39;00m com\u001b[39m.\u001b[39mis_null_slice(indexer[\u001b[39m0\u001b[39m]):\n\u001b[1;32m   1727\u001b[0m     \u001b[39m# We are setting an entire column\u001b[39;00m\n\u001b[0;32m-> 1728\u001b[0m     \u001b[39mself\u001b[39;49m\u001b[39m.\u001b[39;49mobj[key] \u001b[39m=\u001b[39m value\n\u001b[1;32m   1729\u001b[0m     \u001b[39mreturn\u001b[39;00m\n\u001b[1;32m   1730\u001b[0m \u001b[39melif\u001b[39;00m is_array_like(value):\n\u001b[1;32m   1731\u001b[0m     \u001b[39m# GH#42099\u001b[39;00m\n",
      "File \u001b[0;32m~/opt/anaconda3/envs/psytrack/lib/python3.10/site-packages/pandas/core/frame.py:3980\u001b[0m, in \u001b[0;36mDataFrame.__setitem__\u001b[0;34m(self, key, value)\u001b[0m\n\u001b[1;32m   3977\u001b[0m     \u001b[39mself\u001b[39m\u001b[39m.\u001b[39m_setitem_array([key], value)\n\u001b[1;32m   3978\u001b[0m \u001b[39melse\u001b[39;00m:\n\u001b[1;32m   3979\u001b[0m     \u001b[39m# set column\u001b[39;00m\n\u001b[0;32m-> 3980\u001b[0m     \u001b[39mself\u001b[39;49m\u001b[39m.\u001b[39;49m_set_item(key, value)\n",
      "File \u001b[0;32m~/opt/anaconda3/envs/psytrack/lib/python3.10/site-packages/pandas/core/frame.py:4174\u001b[0m, in \u001b[0;36mDataFrame._set_item\u001b[0;34m(self, key, value)\u001b[0m\n\u001b[1;32m   4164\u001b[0m \u001b[39mdef\u001b[39;00m \u001b[39m_set_item\u001b[39m(\u001b[39mself\u001b[39m, key, value) \u001b[39m-\u001b[39m\u001b[39m>\u001b[39m \u001b[39mNone\u001b[39;00m:\n\u001b[1;32m   4165\u001b[0m \u001b[39m    \u001b[39m\u001b[39m\"\"\"\u001b[39;00m\n\u001b[1;32m   4166\u001b[0m \u001b[39m    Add series to DataFrame in specified column.\u001b[39;00m\n\u001b[1;32m   4167\u001b[0m \n\u001b[0;32m   (...)\u001b[0m\n\u001b[1;32m   4172\u001b[0m \u001b[39m    ensure homogeneity.\u001b[39;00m\n\u001b[1;32m   4173\u001b[0m \u001b[39m    \"\"\"\u001b[39;00m\n\u001b[0;32m-> 4174\u001b[0m     value \u001b[39m=\u001b[39m \u001b[39mself\u001b[39;49m\u001b[39m.\u001b[39;49m_sanitize_column(value)\n\u001b[1;32m   4176\u001b[0m     \u001b[39mif\u001b[39;00m (\n\u001b[1;32m   4177\u001b[0m         key \u001b[39min\u001b[39;00m \u001b[39mself\u001b[39m\u001b[39m.\u001b[39mcolumns\n\u001b[1;32m   4178\u001b[0m         \u001b[39mand\u001b[39;00m value\u001b[39m.\u001b[39mndim \u001b[39m==\u001b[39m \u001b[39m1\u001b[39m\n\u001b[1;32m   4179\u001b[0m         \u001b[39mand\u001b[39;00m \u001b[39mnot\u001b[39;00m is_extension_array_dtype(value)\n\u001b[1;32m   4180\u001b[0m     ):\n\u001b[1;32m   4181\u001b[0m         \u001b[39m# broadcast across multiple columns if necessary\u001b[39;00m\n\u001b[1;32m   4182\u001b[0m         \u001b[39mif\u001b[39;00m \u001b[39mnot\u001b[39;00m \u001b[39mself\u001b[39m\u001b[39m.\u001b[39mcolumns\u001b[39m.\u001b[39mis_unique \u001b[39mor\u001b[39;00m \u001b[39misinstance\u001b[39m(\u001b[39mself\u001b[39m\u001b[39m.\u001b[39mcolumns, MultiIndex):\n",
      "File \u001b[0;32m~/opt/anaconda3/envs/psytrack/lib/python3.10/site-packages/pandas/core/frame.py:4915\u001b[0m, in \u001b[0;36mDataFrame._sanitize_column\u001b[0;34m(self, value)\u001b[0m\n\u001b[1;32m   4912\u001b[0m     \u001b[39mreturn\u001b[39;00m _reindex_for_setitem(Series(value), \u001b[39mself\u001b[39m\u001b[39m.\u001b[39mindex)\n\u001b[1;32m   4914\u001b[0m \u001b[39mif\u001b[39;00m is_list_like(value):\n\u001b[0;32m-> 4915\u001b[0m     com\u001b[39m.\u001b[39;49mrequire_length_match(value, \u001b[39mself\u001b[39;49m\u001b[39m.\u001b[39;49mindex)\n\u001b[1;32m   4916\u001b[0m \u001b[39mreturn\u001b[39;00m sanitize_array(value, \u001b[39mself\u001b[39m\u001b[39m.\u001b[39mindex, copy\u001b[39m=\u001b[39m\u001b[39mTrue\u001b[39;00m, allow_2d\u001b[39m=\u001b[39m\u001b[39mTrue\u001b[39;00m)\n",
      "File \u001b[0;32m~/opt/anaconda3/envs/psytrack/lib/python3.10/site-packages/pandas/core/common.py:571\u001b[0m, in \u001b[0;36mrequire_length_match\u001b[0;34m(data, index)\u001b[0m\n\u001b[1;32m    567\u001b[0m \u001b[39m\u001b[39m\u001b[39m\"\"\"\u001b[39;00m\n\u001b[1;32m    568\u001b[0m \u001b[39mCheck the length of data matches the length of the index.\u001b[39;00m\n\u001b[1;32m    569\u001b[0m \u001b[39m\"\"\"\u001b[39;00m\n\u001b[1;32m    570\u001b[0m \u001b[39mif\u001b[39;00m \u001b[39mlen\u001b[39m(data) \u001b[39m!=\u001b[39m \u001b[39mlen\u001b[39m(index):\n\u001b[0;32m--> 571\u001b[0m     \u001b[39mraise\u001b[39;00m \u001b[39mValueError\u001b[39;00m(\n\u001b[1;32m    572\u001b[0m         \u001b[39m\"\u001b[39m\u001b[39mLength of values \u001b[39m\u001b[39m\"\u001b[39m\n\u001b[1;32m    573\u001b[0m         \u001b[39mf\u001b[39m\u001b[39m\"\u001b[39m\u001b[39m(\u001b[39m\u001b[39m{\u001b[39;00m\u001b[39mlen\u001b[39m(data)\u001b[39m}\u001b[39;00m\u001b[39m) \u001b[39m\u001b[39m\"\u001b[39m\n\u001b[1;32m    574\u001b[0m         \u001b[39m\"\u001b[39m\u001b[39mdoes not match length of index \u001b[39m\u001b[39m\"\u001b[39m\n\u001b[1;32m    575\u001b[0m         \u001b[39mf\u001b[39m\u001b[39m\"\u001b[39m\u001b[39m(\u001b[39m\u001b[39m{\u001b[39;00m\u001b[39mlen\u001b[39m(index)\u001b[39m}\u001b[39;00m\u001b[39m)\u001b[39m\u001b[39m\"\u001b[39m\n\u001b[1;32m    576\u001b[0m     )\n",
      "\u001b[0;31mValueError\u001b[0m: Length of values (437) does not match length of index (57)"
     ]
    }
   ],
   "source": [
    "concat_df = pd.DataFrame()\n",
    "concat_df['name'] = mouseName\n",
    "dayLength = []\n",
    "for key in dailySessions_dict.keys():\n",
    "    for session in dailySessions_dict[key]:\n",
    "        data = raw.load_data(session)\n",
    "        trialinfo_df = raw.load_encoder_trial_info(session)\n",
    "\n",
    "        # getting a list of correct trials \n",
    "        correcttrials_lst = [d['trial_correct'] for d in data] \n",
    "\n",
    "        # correcting for the possibility of the last trial not being saved in the encoder_trial_info file \n",
    "        diff = len(trialinfo_df) - len(correcttrials_lst)\n",
    "        if diff:\n",
    "            print(f'warning, {diff} trial\\'s is/are missing from the data dictionary')\n",
    "            trialinfo_df = trialinfo_df[:-diff]\n",
    "\n",
    "        assert (len(trialinfo_df) == len(correcttrials_lst)), 'trialinfo_df and correcttrials_lst are not the same length' # COMMENTED OUT FOR NOW\n",
    "        if len(trialinfo_df) > len(correcttrials_lst):\n",
    "            trialinfo_df[:len(correcttrials_lst)+1]\n",
    "        elif len(correcttrials_lst) > len(trialinfo_df):\n",
    "            correcttrials_lst[:len(trialinfo_df)+1]\n",
    "\n",
    "        dayLength.append(len(correcttrials_lst))\n",
    "\n",
    "        # injecting trial-wise data into the trialinfo_df, changing values to 1 or 2 to conform to psytrack's format\n",
    "        \"\"\"correct -- the accurarcy of the choice (1 = correct, 2 = incorrect)\"\"\"\n",
    "        trialinfo_df.loc[:, 'correct'] = [1 if x else 0 for x in correcttrials_lst]\n",
    "\n",
    "        # changing stim angle value to 0 (-left) or 1 (+right) \n",
    "        trialinfo_df['answer'] = trialinfo_df['stim_angle'].apply(changeVals)\n",
    "\n",
    "        # adds a column for when the wheel is turned to the left:\n",
    "        trialinfo_df[\"LeftTurn\"] = ((trialinfo_df[\"stim_angle\"] < 0) & (trialinfo_df[\"correct\"] == 1)) | ((trialinfo_df[\"stim_angle\"] >= 0) & (trialinfo_df[\"correct\"] == 0))\n",
    "        trialinfo_df[\"LeftTurn\"] = trialinfo_df[\"LeftTurn\"].astype(int)\n",
    "\n",
    "        # adds signed contrast\n",
    "        trialinfo_df.loc[:,'signedContrast'] = trialinfo_df.stim_contrast.values*trialinfo_df.stim_pos_init.values"
   ]
  },
  {
   "cell_type": "code",
   "execution_count": null,
   "metadata": {},
   "outputs": [],
   "source": []
  }
 ],
 "metadata": {
  "kernelspec": {
   "display_name": "psytrack",
   "language": "python",
   "name": "python3"
  },
  "language_info": {
   "codemirror_mode": {
    "name": "ipython",
    "version": 3
   },
   "file_extension": ".py",
   "mimetype": "text/x-python",
   "name": "python",
   "nbconvert_exporter": "python",
   "pygments_lexer": "ipython3",
   "version": "3.10.9"
  },
  "orig_nbformat": 4,
  "vscode": {
   "interpreter": {
    "hash": "7318ee3909646554c6a095e7c8a88e41b51c9591461c62e8fdd55c1907315c5a"
   }
  }
 },
 "nbformat": 4,
 "nbformat_minor": 2
}
