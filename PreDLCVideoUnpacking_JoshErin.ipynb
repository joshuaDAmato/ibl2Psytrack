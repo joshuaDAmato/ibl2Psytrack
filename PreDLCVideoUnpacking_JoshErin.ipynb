{
 "cells": [
  {
   "cell_type": "markdown",
   "id": "145a993b",
   "metadata": {},
   "source": [
    "# Import stuff"
   ]
  },
  {
   "cell_type": "code",
   "execution_count": 4,
   "id": "076ca856",
   "metadata": {},
   "outputs": [],
   "source": [
    "#!/usr/bin/env python\n",
    "# -*- coding:utf-8 -*-\n",
    "# @Author: Josh and Erin\n",
    "# @Date: Saturday, August 20, 2022\n",
    "# https://int-brain-lab.github.io/iblenv/_autosummary/ibllib.io.raw_data_loaders.html?highlight=raw%20data%20loaders#ibllib.io.raw_data_loaders.load_camera_frameData\n",
    "\"\"\"\n",
    "\n",
    "Raw Data Loader functions for PyBpod rig\n",
    "\n",
    "Module contains one loader function per raw datafile\n",
    "\"\"\"\n",
    "#import things\n",
    "import json\n",
    "import logging\n",
    "import wave\n",
    "from datetime import datetime\n",
    "from pathlib import Path\n",
    "from typing import Union\n",
    "import matplotlib.pyplot as plt\n",
    "\n",
    "import itertools\n",
    "from glob import glob\n",
    "import pickle\n",
    "\n",
    "import numpy as np\n",
    "import pandas as pd\n",
    "\n",
    "#from ibllib.io import jsonable\n",
    "from ibllib.io import raw_data_loaders, video, ffmpeg\n",
    "from ibllib.misc import version"
   ]
  },
  {
   "cell_type": "markdown",
   "id": "3f38d68a",
   "metadata": {},
   "source": [
    "# Load data"
   ]
  },
  {
   "cell_type": "code",
   "execution_count": 18,
   "id": "c8751550",
   "metadata": {
    "scrolled": true
   },
   "outputs": [
    {
     "data": {
      "text/html": [
       "<div>\n",
       "<style scoped>\n",
       "    .dataframe tbody tr th:only-of-type {\n",
       "        vertical-align: middle;\n",
       "    }\n",
       "\n",
       "    .dataframe tbody tr th {\n",
       "        vertical-align: top;\n",
       "    }\n",
       "\n",
       "    .dataframe thead th {\n",
       "        text-align: right;\n",
       "    }\n",
       "</style>\n",
       "<table border=\"1\" class=\"dataframe\">\n",
       "  <thead>\n",
       "    <tr style=\"text-align: right;\">\n",
       "      <th></th>\n",
       "      <th>Timestamp</th>\n",
       "      <th>embeddedTimeStamp</th>\n",
       "      <th>embeddedFrameCounter</th>\n",
       "      <th>embeddedGPIOPinState</th>\n",
       "    </tr>\n",
       "  </thead>\n",
       "  <tbody>\n",
       "    <tr>\n",
       "      <th>0</th>\n",
       "      <td>0.000000</td>\n",
       "      <td>0.000000</td>\n",
       "      <td>0</td>\n",
       "      <td>[False, True, False, False]</td>\n",
       "    </tr>\n",
       "    <tr>\n",
       "      <th>1</th>\n",
       "      <td>0.019955</td>\n",
       "      <td>0.099875</td>\n",
       "      <td>3</td>\n",
       "      <td>[False, True, False, False]</td>\n",
       "    </tr>\n",
       "    <tr>\n",
       "      <th>2</th>\n",
       "      <td>0.040154</td>\n",
       "      <td>0.133125</td>\n",
       "      <td>4</td>\n",
       "      <td>[False, True, False, False]</td>\n",
       "    </tr>\n",
       "    <tr>\n",
       "      <th>3</th>\n",
       "      <td>0.073344</td>\n",
       "      <td>0.166375</td>\n",
       "      <td>5</td>\n",
       "      <td>[False, True, False, False]</td>\n",
       "    </tr>\n",
       "    <tr>\n",
       "      <th>4</th>\n",
       "      <td>0.106829</td>\n",
       "      <td>0.199625</td>\n",
       "      <td>6</td>\n",
       "      <td>[False, True, False, False]</td>\n",
       "    </tr>\n",
       "    <tr>\n",
       "      <th>...</th>\n",
       "      <td>...</td>\n",
       "      <td>...</td>\n",
       "      <td>...</td>\n",
       "      <td>...</td>\n",
       "    </tr>\n",
       "    <tr>\n",
       "      <th>10397</th>\n",
       "      <td>346.135987</td>\n",
       "      <td>346.185125</td>\n",
       "      <td>10399</td>\n",
       "      <td>[False, True, False, False]</td>\n",
       "    </tr>\n",
       "    <tr>\n",
       "      <th>10398</th>\n",
       "      <td>346.169139</td>\n",
       "      <td>346.218375</td>\n",
       "      <td>10400</td>\n",
       "      <td>[False, True, False, False]</td>\n",
       "    </tr>\n",
       "    <tr>\n",
       "      <th>10399</th>\n",
       "      <td>346.202726</td>\n",
       "      <td>346.251625</td>\n",
       "      <td>10401</td>\n",
       "      <td>[False, True, False, False]</td>\n",
       "    </tr>\n",
       "    <tr>\n",
       "      <th>10400</th>\n",
       "      <td>346.235802</td>\n",
       "      <td>346.285000</td>\n",
       "      <td>10402</td>\n",
       "      <td>[False, True, False, False]</td>\n",
       "    </tr>\n",
       "    <tr>\n",
       "      <th>10401</th>\n",
       "      <td>346.269734</td>\n",
       "      <td>346.318250</td>\n",
       "      <td>10403</td>\n",
       "      <td>[False, True, False, False]</td>\n",
       "    </tr>\n",
       "  </tbody>\n",
       "</table>\n",
       "<p>10402 rows × 4 columns</p>\n",
       "</div>"
      ],
      "text/plain": [
       "        Timestamp  embeddedTimeStamp  embeddedFrameCounter  \\\n",
       "0        0.000000           0.000000                     0   \n",
       "1        0.019955           0.099875                     3   \n",
       "2        0.040154           0.133125                     4   \n",
       "3        0.073344           0.166375                     5   \n",
       "4        0.106829           0.199625                     6   \n",
       "...           ...                ...                   ...   \n",
       "10397  346.135987         346.185125                 10399   \n",
       "10398  346.169139         346.218375                 10400   \n",
       "10399  346.202726         346.251625                 10401   \n",
       "10400  346.235802         346.285000                 10402   \n",
       "10401  346.269734         346.318250                 10403   \n",
       "\n",
       "              embeddedGPIOPinState  \n",
       "0      [False, True, False, False]  \n",
       "1      [False, True, False, False]  \n",
       "2      [False, True, False, False]  \n",
       "3      [False, True, False, False]  \n",
       "4      [False, True, False, False]  \n",
       "...                            ...  \n",
       "10397  [False, True, False, False]  \n",
       "10398  [False, True, False, False]  \n",
       "10399  [False, True, False, False]  \n",
       "10400  [False, True, False, False]  \n",
       "10401  [False, True, False, False]  \n",
       "\n",
       "[10402 rows x 4 columns]"
      ]
     },
     "execution_count": 18,
     "metadata": {},
     "output_type": "execute_result"
    }
   ],
   "source": [
    "# getting the session path \n",
    "basePath = r'C:\\iblrig_data\\Subjects//'\n",
    "subject = '_iblrig_test_mouse'\n",
    "date = '2022-09-21'\n",
    "session = '001'\n",
    "session_path = basePath + subject + '//' + date + '//' + session\n",
    "#r'C:\\iblrig_data\\Subjects\\_iblrig_test_mouse\\2022-09-31\\004//'\n",
    "#server:  r'Z:\\moraogando\\IBLdata\\Box1_basement//'\n",
    "\n",
    "#Load data \n",
    "session_data = raw_data_loaders.load_data(session_path)\n",
    "settings =raw_data_loaders.load_settings(session_path)\n",
    "encoder_events = raw_data_loaders.load_encoder_events(session_path, settings=False)\n",
    "encoder_positions =raw_data_loaders.load_encoder_positions(session_path, settings=False)\n",
    "encoder_trial_info = raw_data_loaders.load_encoder_trial_info(session_path)\n",
    "\n",
    "#camera_ssv = raw_data_loaders.load_camera_ssv_times(session_path, 'left')\n",
    "#print(camera_ssv)\n",
    "\n",
    "#embedded_frame_data = raw_data_loaders.load_embedded_frame_data(session_path, 'left')\n",
    "#print(embedded_frame_data)\n",
    "\n",
    "#frames_count = len(res)\n",
    "#print(frames_count)\n",
    "#video_frames = video.get_video_frame\n",
    "\n",
    "#camera frame data (binary)\n",
    "camera_frame_data = raw_data_loaders.load_camera_frameData(session_path, 'left')\n",
    "camera_frame_data \n",
    "#print(len(camera_frame_data['Timestamp'])\n",
    "\n",
    "#bpod\n",
    "#bpod = raw_data_loaders.load_bpod(session_path)\n",
    "\n",
    "#pybpod data\n",
    "#data = raw_data_loaders.load_data(session_path)\n",
    "#data\n",
    "\n",
    "#port events\n",
    "#port_events = raw_data_loaders.get_port_events(session_data[0])\n",
    "#port_events\n",
    "\n",
    "#session_data\n",
    "\n",
    "#encoder_trial_info\n",
    "#encoder_trial_info.insert(0, \"frame\", camera_frame_count)"
   ]
  },
  {
   "cell_type": "code",
   "execution_count": 12,
   "id": "a0509865",
   "metadata": {},
   "outputs": [
    {
     "ename": "NameError",
     "evalue": "name 'port_events' is not defined",
     "output_type": "error",
     "traceback": [
      "\u001b[1;31m---------------------------------------------------------------------------\u001b[0m",
      "\u001b[1;31mNameError\u001b[0m                                 Traceback (most recent call last)",
      "\u001b[1;32m~\\AppData\\Local\\Temp\\ipykernel_12780\\2479110488.py\u001b[0m in \u001b[0;36m<module>\u001b[1;34m\u001b[0m\n\u001b[1;32m----> 1\u001b[1;33m \u001b[0mport_events\u001b[0m\u001b[1;33m\u001b[0m\u001b[1;33m\u001b[0m\u001b[0m\n\u001b[0m",
      "\u001b[1;31mNameError\u001b[0m: name 'port_events' is not defined"
     ]
    }
   ],
   "source": [
    "port_events"
   ]
  },
  {
   "cell_type": "code",
   "execution_count": 13,
   "id": "c56da5a6",
   "metadata": {},
   "outputs": [
    {
     "data": {
      "text/plain": [
       "dict_keys(['init_datetime', 'task_protocol', 'data_file_path', 'data_file', 'position_set', 'ResponseThresholds', 'repeat_on_error', 'repeat_contrasts', 'threshold_events_dict', 'quiescent_period_base', 'quiescent_period', 'response_window', 'interactive_delay', 'iti_error', 'iti_correct_target', 'osc_client', 'stim_freq', 'stim_angles', 'stim_gains', 'stim_gain', 'stim_sigma', 'out_tone', 'out_noise', 'out_stop_sound', 'poop_count', 'save_ambient_data', 'as_data', 'reward_amount', 'reward_valve_time', 'iti_correct', 'ac', 'rc', 'contrast_set', 'trial_num', 'position', 'stim_probability_left', 'stim_phase', 'event_error', 'event_reward', 'movement_left', 'movement_right', 'contrast', 'current_contrast', 'signed_contrast', 'signed_contrast_buffer', 'elapsed_time', 'behavior_data', 'response_time', 'response_time_buffer', 'response_buffer', 'response_side_buffer', 'trial_correct', 'ntrials_correct', 'water_delivered', 'non_rc_ntrials', 'angle_threshold', 'useExternalTrialConds', 'stim_angle', 'stim_lastAngle', 'stim_reverse'])"
      ]
     },
     "execution_count": 13,
     "metadata": {},
     "output_type": "execute_result"
    }
   ],
   "source": [
    "session_data[0].keys()"
   ]
  },
  {
   "cell_type": "code",
   "execution_count": null,
   "id": "9b903171",
   "metadata": {},
   "outputs": [],
   "source": []
  },
  {
   "cell_type": "code",
   "execution_count": null,
   "id": "795f14b0",
   "metadata": {},
   "outputs": [],
   "source": []
  },
  {
   "cell_type": "code",
   "execution_count": null,
   "id": "26d4940b",
   "metadata": {},
   "outputs": [],
   "source": []
  },
  {
   "cell_type": "code",
   "execution_count": null,
   "id": "0e26ca85",
   "metadata": {},
   "outputs": [],
   "source": []
  }
 ],
 "metadata": {
  "kernelspec": {
   "display_name": "Python 3 (ipykernel)",
   "language": "python",
   "name": "python3"
  },
  "language_info": {
   "codemirror_mode": {
    "name": "ipython",
    "version": 3
   },
   "file_extension": ".py",
   "mimetype": "text/x-python",
   "name": "python",
   "nbconvert_exporter": "python",
   "pygments_lexer": "ipython3",
   "version": "3.7.11"
  }
 },
 "nbformat": 4,
 "nbformat_minor": 5
}
