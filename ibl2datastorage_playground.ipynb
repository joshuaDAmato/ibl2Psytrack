{
 "cells": [
  {
   "cell_type": "code",
   "execution_count": 13,
   "metadata": {},
   "outputs": [],
   "source": [
    "from datetime import datetime\n",
    "import pickle"
   ]
  },
  {
   "cell_type": "code",
   "execution_count": 2,
   "metadata": {},
   "outputs": [],
   "source": [
    "def toDatetime(dateString):\n",
    "    \"\"\"\n",
    "    Converts a date string to a datetime object. \n",
    "    \"\"\"\n",
    "    return datetime.strptime(dateString, '%Y-%m-%d')"
   ]
  },
  {
   "cell_type": "code",
   "execution_count": 26,
   "metadata": {},
   "outputs": [],
   "source": [
    "class Mouse:\n",
    "    mice_lst = []\n",
    "    def __init__(self, name, dob = None, deprivationStart = None, headplateDate = None, color = None, siblings = None):\n",
    "        \"\"\"\n",
    "        Mouse class to store all of the information about a subject, in a pre-indexed format, and to be able to easily access all of a mouse's data with a single file. \n",
    "        Dates must be entered as YYYY-MM-DD, including the dashes.\n",
    "        Enter color as a string. \n",
    "        \"\"\"\n",
    "        self.name = str(name)\n",
    "        self.cageid = self.name.split('_')[0]\n",
    "        self.uniqueid = int(self.name.split('_')[1])\n",
    "\n",
    "        # variables filled optionally during class instantiation\n",
    "        self.dob = toDatetime(dob)\n",
    "        self.deprivationDateRanges = [(toDatetime(deprivationStart), None)] # initialize with a single range, which is open-ended\n",
    "        self.headplateDate = toDatetime(headplateDate)\n",
    "        self.color = color\n",
    "        self.siblings = [siblings] # siblings are entered as a list of mouse objects\n",
    "        \n",
    "        # variables not filled during class instantiation \n",
    "        self.notes = [] # notes should be entered as tuples, where a given element of the notes list is a tuple of (date, session, note) -- date should be a datetime object, session should be an integer, and note should be a string\n",
    "\n",
    "        # mice should be a list of mouse objects\n",
    "        Mouse.mice_lst.append(self)\n",
    "\n",
    "    def save(self):\n",
    "        \"\"\"\n",
    "        Save mice_lst to a pickle file. \n",
    "        \"\"\"\n",
    "        with open('mice.pkl', 'wb') as f:\n",
    "            pickle.dump(Mouse.mice_lst, f)\n",
    "\n",
    "    def load(self):\n",
    "        \"\"\"\n",
    "        Load the mice_lst from a pickle file. \n",
    "        \"\"\"\n",
    "        with open('mice.pkl', 'rb') as f:\n",
    "            Mouse.mice_lst = pickle.load(f)\n"
   ]
  },
  {
   "cell_type": "code",
   "execution_count": 34,
   "metadata": {},
   "outputs": [],
   "source": [
    "# create a mouse object; has a name, date of birth, deprivation start date, headplate date, color, and one sibling \n",
    "mouse1 = Mouse('IBL_1', '2018-01-01', '2018-01-01', '2018-01-01', 'black', 'IBL_2')\n",
    "mouse2 = Mouse('IBL_2', '2018-01-01', '2018-01-01', '2018-01-01', 'black', 'IBL_1')"
   ]
  },
  {
   "cell_type": "code",
   "execution_count": 35,
   "metadata": {},
   "outputs": [],
   "source": [
    "# save the mouse objects to a pickle file\n",
    "Mouse.mice_lst[0].save()"
   ]
  },
  {
   "cell_type": "code",
   "execution_count": 36,
   "metadata": {},
   "outputs": [],
   "source": [
    "# load the mouse objects from a pickle file\n",
    "mouses = Mouse.mice_lst[0].load()"
   ]
  },
  {
   "cell_type": "code",
   "execution_count": 37,
   "metadata": {},
   "outputs": [
    {
     "name": "stdout",
     "output_type": "stream",
     "text": [
      "None\n"
     ]
    }
   ],
   "source": [
    "print(mouses)"
   ]
  },
  {
   "cell_type": "code",
   "execution_count": null,
   "metadata": {},
   "outputs": [],
   "source": []
  }
 ],
 "metadata": {
  "kernelspec": {
   "display_name": "base",
   "language": "python",
   "name": "python3"
  },
  "language_info": {
   "codemirror_mode": {
    "name": "ipython",
    "version": 3
   },
   "file_extension": ".py",
   "mimetype": "text/x-python",
   "name": "python",
   "nbconvert_exporter": "python",
   "pygments_lexer": "ipython3",
   "version": "3.9.13"
  },
  "orig_nbformat": 4,
  "vscode": {
   "interpreter": {
    "hash": "0ed700301bc8a65c20ca8df8017f580aafbdadd0a88107b0c1c50c4f3e2b4102"
   }
  }
 },
 "nbformat": 4,
 "nbformat_minor": 2
}
