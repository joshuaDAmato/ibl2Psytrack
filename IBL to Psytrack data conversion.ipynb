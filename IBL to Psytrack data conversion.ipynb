{
 "cells": [
  {
   "cell_type": "code",
   "execution_count": 8,
   "metadata": {},
   "outputs": [],
   "source": [
    "# -*- coding:utf-8 -*-\n",
    "# @Author: Niccolò Bonacchi\n",
    "# @Date: Thursday, February 21st 2019, 7:13:37 pm\n",
    "# @Last Modified by: Niccolò Bonacchi\n",
    "# @Last Modified time: 21-02-2019 07:35:12.1212\n",
    "\n",
    "from pathlib import Path\n",
    "import ibllib.io.raw_data_loaders as raw\n",
    "import matplotlib.pyplot as plt\n",
    "import numpy as np\n",
    "import sys\n",
    "\n",
    "import utils as ut\n",
    "import pandas as pd\n",
    "import seaborn as sns"
   ]
  },
  {
   "cell_type": "code",
   "execution_count": 9,
   "metadata": {},
   "outputs": [
    {
     "name": "stderr",
     "output_type": "stream",
     "text": [
      "2023-02-05 15:07:02.812 python[9477:13993342] +[CATransaction synchronize] called within transaction\n",
      "2023-02-05 15:07:02.827 python[9477:13993342] +[CATransaction synchronize] called within transaction\n",
      "2023-02-05 15:07:19.243 python[9477:13993342] +[CATransaction synchronize] called within transaction\n"
     ]
    }
   ],
   "source": [
    "# gets the session path from the user\n",
    "session_path = ut.selectFolder()"
   ]
  },
  {
   "cell_type": "code",
   "execution_count": 10,
   "metadata": {},
   "outputs": [
    {
     "name": "stdout",
     "output_type": "stream",
     "text": [
      "init_datetime <class 'str'>\n",
      "task_protocol <class 'str'>\n",
      "data_file_path <class 'str'>\n",
      "data_file <class 'str'>\n",
      "position_set <class 'list'>\n",
      "ResponseThresholds <class 'list'>\n",
      "repeat_on_error <class 'bool'>\n",
      "repeat_contrasts <class 'list'>\n",
      "threshold_events_dict <class 'dict'>\n",
      "quiescent_period_base <class 'float'>\n",
      "quiescent_period <class 'float'>\n",
      "response_window <class 'int'>\n",
      "interactive_delay <class 'float'>\n",
      "iti_error <class 'int'>\n",
      "iti_correct_target <class 'int'>\n",
      "osc_client <class 'str'>\n",
      "stim_freq <class 'float'>\n",
      "stim_angles <class 'list'>\n",
      "stim_gains <class 'list'>\n",
      "stim_gain <class 'float'>\n",
      "stim_sigma <class 'float'>\n",
      "out_tone <class 'list'>\n",
      "out_noise <class 'list'>\n",
      "out_stop_sound <class 'list'>\n",
      "poop_count <class 'bool'>\n",
      "save_ambient_data <class 'bool'>\n",
      "as_data <class 'dict'>\n",
      "reward_amount <class 'float'>\n",
      "reward_valve_time <class 'float'>\n",
      "iti_correct <class 'float'>\n",
      "ac <class 'dict'>\n",
      "rc <class 'dict'>\n",
      "contrast_set <class 'list'>\n",
      "trial_num <class 'int'>\n",
      "position <class 'int'>\n",
      "stim_probability_left <class 'float'>\n",
      "stim_phase <class 'float'>\n",
      "event_error <class 'str'>\n",
      "event_reward <class 'str'>\n",
      "movement_left <class 'str'>\n",
      "movement_right <class 'str'>\n",
      "contrast <class 'dict'>\n",
      "current_contrast <class 'float'>\n",
      "signed_contrast <class 'float'>\n",
      "signed_contrast_buffer <class 'str'>\n",
      "elapsed_time <class 'str'>\n",
      "behavior_data <class 'dict'>\n",
      "response_time <class 'float'>\n",
      "response_time_buffer <class 'str'>\n",
      "response_buffer <class 'list'>\n",
      "response_side_buffer <class 'str'>\n",
      "trial_correct <class 'bool'>\n",
      "ntrials_correct <class 'int'>\n",
      "water_delivered <class 'float'>\n",
      "non_rc_ntrials <class 'int'>\n",
      "angle_threshold <class 'int'>\n",
      "useExternalTrialConds <class 'bool'>\n",
      "stim_angle <class 'float'>\n",
      "stim_lastAngle <class 'float'>\n",
      "stim_reverse <class 'int'>\n"
     ]
    }
   ],
   "source": [
    "# loads the session data using the ibllib library\n",
    "data = raw.load_data(session_path)\n",
    "ut.dictprint(data[0])"
   ]
  },
  {
   "cell_type": "code",
   "execution_count": 11,
   "metadata": {},
   "outputs": [
    {
     "name": "stdout",
     "output_type": "stream",
     "text": [
      "<class 'list'> 192 (number of trials)\n"
     ]
    }
   ],
   "source": [
    "print(type(data), len(data), \"(number of trials)\")"
   ]
  },
  {
   "cell_type": "code",
   "execution_count": 12,
   "metadata": {},
   "outputs": [
    {
     "data": {
      "text/plain": [
       "[True,\n",
       " False,\n",
       " False,\n",
       " False,\n",
       " False,\n",
       " False,\n",
       " True,\n",
       " True,\n",
       " False,\n",
       " True,\n",
       " True,\n",
       " True,\n",
       " True,\n",
       " True,\n",
       " True,\n",
       " True,\n",
       " True,\n",
       " True,\n",
       " True,\n",
       " True,\n",
       " True,\n",
       " True,\n",
       " False,\n",
       " False,\n",
       " True,\n",
       " True,\n",
       " True,\n",
       " True,\n",
       " True,\n",
       " True,\n",
       " True,\n",
       " True,\n",
       " True,\n",
       " True,\n",
       " True,\n",
       " True,\n",
       " True,\n",
       " True,\n",
       " True,\n",
       " True,\n",
       " True,\n",
       " True,\n",
       " True,\n",
       " True,\n",
       " True,\n",
       " False,\n",
       " True,\n",
       " True,\n",
       " False,\n",
       " True,\n",
       " True,\n",
       " False,\n",
       " True,\n",
       " True,\n",
       " True,\n",
       " True,\n",
       " True,\n",
       " True,\n",
       " True,\n",
       " True,\n",
       " True,\n",
       " True,\n",
       " True,\n",
       " True,\n",
       " True,\n",
       " True,\n",
       " True,\n",
       " True,\n",
       " True,\n",
       " True,\n",
       " True,\n",
       " True,\n",
       " True,\n",
       " True,\n",
       " True,\n",
       " True,\n",
       " False,\n",
       " False,\n",
       " False,\n",
       " False,\n",
       " True,\n",
       " True,\n",
       " True,\n",
       " False,\n",
       " True,\n",
       " True,\n",
       " True,\n",
       " True,\n",
       " True,\n",
       " True,\n",
       " True,\n",
       " True,\n",
       " False,\n",
       " True,\n",
       " True,\n",
       " True,\n",
       " False,\n",
       " True,\n",
       " True,\n",
       " True,\n",
       " True,\n",
       " True,\n",
       " False,\n",
       " True,\n",
       " True,\n",
       " True,\n",
       " True,\n",
       " True,\n",
       " True,\n",
       " True,\n",
       " True,\n",
       " True,\n",
       " True,\n",
       " True,\n",
       " True,\n",
       " True,\n",
       " True,\n",
       " True,\n",
       " False,\n",
       " True,\n",
       " True,\n",
       " True,\n",
       " False,\n",
       " True,\n",
       " True,\n",
       " True,\n",
       " True,\n",
       " True,\n",
       " True,\n",
       " True,\n",
       " True,\n",
       " True,\n",
       " True,\n",
       " False,\n",
       " True,\n",
       " False,\n",
       " False,\n",
       " False,\n",
       " True,\n",
       " True,\n",
       " True,\n",
       " True,\n",
       " False,\n",
       " True,\n",
       " True,\n",
       " True,\n",
       " True,\n",
       " True,\n",
       " True,\n",
       " True,\n",
       " True,\n",
       " True,\n",
       " True,\n",
       " False,\n",
       " True,\n",
       " True,\n",
       " True,\n",
       " True,\n",
       " True,\n",
       " True,\n",
       " True,\n",
       " True,\n",
       " True,\n",
       " False,\n",
       " True,\n",
       " True,\n",
       " True,\n",
       " True,\n",
       " True,\n",
       " True,\n",
       " True,\n",
       " True,\n",
       " True,\n",
       " True,\n",
       " True,\n",
       " True,\n",
       " True,\n",
       " True,\n",
       " True,\n",
       " True,\n",
       " True,\n",
       " True,\n",
       " True,\n",
       " True,\n",
       " True,\n",
       " True,\n",
       " True,\n",
       " True,\n",
       " True,\n",
       " False,\n",
       " True,\n",
       " True]"
      ]
     },
     "execution_count": 12,
     "metadata": {},
     "output_type": "execute_result"
    }
   ],
   "source": [
    "[d['trial_correct'] for d in data]"
   ]
  },
  {
   "cell_type": "code",
   "execution_count": 14,
   "metadata": {},
   "outputs": [
    {
     "ename": "NameError",
     "evalue": "name 'trialInfoDF' is not defined",
     "output_type": "error",
     "traceback": [
      "\u001b[0;31m---------------------------------------------------------------------------\u001b[0m",
      "\u001b[0;31mNameError\u001b[0m                                 Traceback (most recent call last)",
      "Cell \u001b[0;32mIn[14], line 4\u001b[0m\n\u001b[1;32m      1\u001b[0m correct_responses \u001b[39m=\u001b[39m [d[\u001b[39m'\u001b[39m\u001b[39mtrial_correct\u001b[39m\u001b[39m'\u001b[39m] \u001b[39mfor\u001b[39;00m d \u001b[39min\u001b[39;00m data]\n\u001b[1;32m      3\u001b[0m \u001b[39m# in case the last trial wasn't saved in the encoder_trial_info\u001b[39;00m\n\u001b[0;32m----> 4\u001b[0m \u001b[39mif\u001b[39;00m (\u001b[39mlen\u001b[39m(trialInfoDF) \u001b[39m>\u001b[39m\u001b[39mlen\u001b[39m(correct_responses)):\n\u001b[1;32m      5\u001b[0m     diff \u001b[39m=\u001b[39m \u001b[39mlen\u001b[39m(trialInfoDF) \u001b[39m-\u001b[39m\u001b[39mlen\u001b[39m(correct_responses)\n\u001b[1;32m      6\u001b[0m     \u001b[39mprint\u001b[39m(\u001b[39mf\u001b[39m\u001b[39m'\u001b[39m\u001b[39mwarning, \u001b[39m\u001b[39m{\u001b[39;00mdiff\u001b[39m}\u001b[39;00m\u001b[39m trial/s are missing from the data dictionary\u001b[39m\u001b[39m'\u001b[39m)\n",
      "\u001b[0;31mNameError\u001b[0m: name 'trialInfoDF' is not defined"
     ]
    }
   ],
   "source": [
    "correct_responses = [d['trial_correct'] for d in data]\n",
    "\n",
    "# in case the last trial wasn't saved in the encoder_trial_info\n",
    "if (len(trialInfoDF) >len(correct_responses)):\n",
    "    diff = len(trialInfoDF) -len(correct_responses)\n",
    "    print(f'warning, {diff} trial/s are missing from the data dictionary')\n",
    "    trialInfoDF = trialInfoDF[:len(correct_responses)]\n",
    "\n",
    "assert (len(trialInfoDF) == len(correct_responses))\n",
    "\n",
    "# append correct responses\n",
    "trialInfoDF.loc[:,'correct'] = correct_responses\n",
    "\n",
    "# get trials with left responses\n",
    "Left1 = list(np.where((trialInfoDF['stim_angle'].values<=0)& (trialInfoDF['correct'].values>0))[0]) # option 1, angle less or = 0 and correct response\n",
    "Left2 = list(np.where((trialInfoDF['stim_angle'].values>0)& (trialInfoDF['correct'].values==0))[0]) # option 2, angle bigger than 0 and incorrect response\n",
    "\n",
    "# join the 2 lists and add 1 to correct for the trialnum indexing starting at 1\n",
    "lefresponses =np.array(Left1 + Left2)+1\n",
    "\n",
    "trialInfoDF.loc[:,'LeftTurn'] = False\n",
    "\n",
    "# assign the left responses to the corresponding trials\n",
    "trialInfoDF.loc[trialInfoDF.trial_num.isin(lefresponses),'LeftTurn'] = True\n",
    "\n",
    "# append signed contrasts\n",
    "trialInfoDF.loc[:,'signedContrast'] = trialInfoDF.stim_contrast.values*trialInfoDF.stim_pos_init.values"
   ]
  },
  {
   "cell_type": "code",
   "execution_count": 14,
   "metadata": {},
   "outputs": [
    {
     "name": "stderr",
     "output_type": "stream",
     "text": [
      "No artists with labels found to put in legend.  Note that artists whose label start with an underscore are ignored when legend() is called with no argument.\n",
      "/var/folders/8f/5wxb25nd0y12wfq_xr45zv5w0000gn/T/ipykernel_9124/2574100294.py:20: UserWarning: FixedFormatter should only be used together with FixedLocator\n",
      "  ax.set_yticklabels(labels =np.round(np.arange(-0.2,1.2,0.2),2),fontsize = 15)\n"
     ]
    },
    {
     "data": {
      "image/png": "[encoded data removed]",
      "text/plain": [
       "<Figure size 300x500 with 1 Axes>"
      ]
     },
     "metadata": {},
     "output_type": "display_data"
    }
   ],
   "source": [
    "import seaborn as sns\n",
    "dtp = trialInfoDF\n",
    "x ='signedContrast'\n",
    "y = 'LeftTurn'\n",
    "hue= 'mouse'\n",
    "minTrial = 30\n",
    "maxTrial = 1000\n",
    "\n",
    "fig,ax = plt.subplots(1,1,figsize = (3,5))\n",
    "order = [1,0.5,0.25,0,-0.25,-0.5,-1]\n",
    "#ax = sns.pointplot(data = data,x=x,y=y,hue=hue,palette= palette,order = order,alpha = 0.5,aspect = 1.5,dodge=0.2)\n",
    "ax = sns.pointplot(data = dtp,x=x,y=y,color='black',order = order)\n",
    "#ax = sns.pointplot(data = data,x=x,y=y)\n",
    "ax.legend(bbox_to_anchor=(1.05, 1), loc=2, borderaxespad=0.)\n",
    "ax.set_title('Psychometric function',fontsize = 15)\n",
    "ax.set_xlabel('Signed contrast',fontsize = 15)\n",
    "ax.set_ylabel('Probability left turn',fontsize = 15)\n",
    "ax.set_ylim(-0.2,1.2)\n",
    "#ax.set_xticklabels([-45,45],fontsize = 15)\n",
    "ax.set_yticklabels(labels =np.round(np.arange(-0.2,1.2,0.2),2),fontsize = 15)\n",
    "ax.axes.hlines(0.5,0,6,linestyles='dashed',color='black')\n",
    "# ax.axes.hlines(0.70,0,data[x].max()-data[x].min(),linestyles='dashed',color='black')\n",
    "plt.show()"
   ]
  },
  {
   "cell_type": "code",
   "execution_count": 15,
   "metadata": {},
   "outputs": [
    {
     "data": {
      "text/plain": [
       "array([2, 2, 2, 2, 2, 2, 1, 2, 1, 2, 1, 2, 2, 2, 2, 2, 1, 1, 2, 2, 2, 1,\n",
       "       2, 2, 1, 1, 1, 1, 1, 2, 2, 2, 1, 1, 1, 2, 2, 1, 2, 2, 1, 1, 2, 1,\n",
       "       2, 1, 2, 2, 1, 2, 1, 1, 2, 1, 1, 1, 2, 1, 2, 2, 2, 2, 1, 2, 1, 2,\n",
       "       2, 2, 2, 1, 2, 2, 1, 2, 2, 2, 2, 2, 2, 2, 1, 2, 1, 1, 2, 1, 1, 1,\n",
       "       2, 1, 1, 2, 1, 2, 1, 1, 1, 2, 2, 1, 2, 2, 1, 2, 1, 1, 1, 2, 2, 2,\n",
       "       1, 1, 2, 2, 1, 1, 2, 1, 1, 2, 2, 2, 1, 2, 1, 2, 2, 2, 1, 1, 2, 2,\n",
       "       2, 2, 1, 2, 2, 2, 1, 2, 1, 1, 1, 2, 1, 2, 1, 1, 2, 2, 2, 2, 2, 1,\n",
       "       2, 1, 2, 2, 2, 2, 2, 2, 2, 2, 1, 2, 2, 1, 2, 2, 1, 2, 2, 2, 2, 2,\n",
       "       2, 1, 1, 1, 1, 2, 1, 1, 2, 2, 1, 2, 1, 2, 1, 2])"
      ]
     },
     "execution_count": 15,
     "metadata": {},
     "output_type": "execute_result"
    }
   ],
   "source": [
    "D=dict()\n",
    "D['y']= trialInfoDF.LeftTurn.values+1\n",
    "D['y']"
   ]
  },
  {
   "cell_type": "code",
   "execution_count": 16,
   "metadata": {},
   "outputs": [],
   "source": [
    "varstoadd = ['stim_angle','stim_contrast']\n",
    "outputs = []\n",
    "for name in varstoadd:\n",
    "    currenttrial = trialInfoDF[name].values\n",
    "    prevtrial = np.insert(trialInfoDF[name].values[:-1],0,trialInfoDF[name].values[0])\n",
    "    assert len(currenttrial) == len(prevtrial)\n",
    "    both = np.stack([currenttrial,prevtrial]).T\n",
    "    outputs.append(both)"
   ]
  },
  {
   "cell_type": "code",
   "execution_count": 17,
   "metadata": {},
   "outputs": [],
   "source": [
    "D['inputs'] =dict()\n",
    "for idx,name in enumerate(varstoadd):\n",
    "    D['inputs'][name]= outputs[idx]"
   ]
  },
  {
   "cell_type": "code",
   "execution_count": 18,
   "metadata": {},
   "outputs": [
    {
     "ename": "KeyError",
     "evalue": "'dayLength'",
     "output_type": "error",
     "traceback": [
      "\u001b[0;31m---------------------------------------------------------------------------\u001b[0m",
      "\u001b[0;31mKeyError\u001b[0m                                  Traceback (most recent call last)",
      "Cell \u001b[0;32mIn[18], line 1\u001b[0m\n\u001b[0;32m----> 1\u001b[0m D[\u001b[39m'\u001b[39;49m\u001b[39mdayLength\u001b[39;49m\u001b[39m'\u001b[39;49m][\u001b[39m0\u001b[39m] \u001b[39m=\u001b[39m \u001b[39mlen\u001b[39m(data)\n",
      "\u001b[0;31mKeyError\u001b[0m: 'dayLength'"
     ]
    }
   ],
   "source": [
    "D['dayLength'][0] = len(data)"
   ]
  },
  {
   "cell_type": "code",
   "execution_count": null,
   "metadata": {},
   "outputs": [],
   "source": []
  }
 ],
 "metadata": {
  "kernelspec": {
   "display_name": "psytrack",
   "language": "python",
   "name": "python3"
  },
  "language_info": {
   "codemirror_mode": {
    "name": "ipython",
    "version": 3
   },
   "file_extension": ".py",
   "mimetype": "text/x-python",
   "name": "python",
   "nbconvert_exporter": "python",
   "pygments_lexer": "ipython3",
   "version": "3.10.9"
  },
  "vscode": {
   "interpreter": {
    "hash": "7318ee3909646554c6a095e7c8a88e41b51c9591461c62e8fdd55c1907315c5a"
   }
  }
 },
 "nbformat": 4,
 "nbformat_minor": 4
}
